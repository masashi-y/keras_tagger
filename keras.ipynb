{
 "cells": [
  {
   "cell_type": "markdown",
   "metadata": {},
   "source": [
    "今回は、feedforward neural networkを使って、固定ウィンドウ幅(左右３)の情報を使って単語の品詞タグを予測するモデルを学習してみます．  \n",
    "かなりシンプルですが、高速に予測できるという魅力から、より強力なモデルが沢山存在する今でも、NLPのいろんなツールで使われてます．  \n",
    "easyccg: https://github.com/mikelewis0/easyccg  \n",
    "syntaxnet: https://github.com/tensorflow/models/tree/master/research/syntaxnet  \n",
    "stanford parser: https://nlp.stanford.edu/software/lex-parser.shtml  \n",
    "(イメージ)　　\n",
    "<img src='images/ff.png'>\n",
    "(画像: https://xbt.net/blog/what-is-enigma/)"
   ]
  },
  {
   "cell_type": "code",
   "execution_count": 1,
   "metadata": {},
   "outputs": [
    {
     "name": "stderr",
     "output_type": "stream",
     "text": [
      "/Users/masashi-y/.pyenv/versions/3.6.1/lib/python3.6/site-packages/h5py/__init__.py:36: FutureWarning: Conversion of the second argument of issubdtype from `float` to `np.floating` is deprecated. In future, it will be treated as `np.float64 == np.dtype(float).type`.\n",
      "  from ._conv import register_converters as _register_converters\n",
      "Using TensorFlow backend.\n",
      "/Users/masashi-y/.pyenv/versions/3.6.1/lib/python3.6/importlib/_bootstrap.py:205: RuntimeWarning: compiletime version 3.5 of module 'tensorflow.python.framework.fast_tensor_util' does not match runtime version 3.6\n",
      "  return f(*args, **kwds)\n"
     ]
    }
   ],
   "source": [
    "# つかうライブラリの読み込み\n",
    "\n",
    "import numpy as np\n",
    "import keras\n",
    "from keras.models import Sequential\n",
    "from keras.layers import Dense, Dropout, Embedding, Input, Reshape\n",
    "from keras.optimizers import SGD\n",
    "from collections import Counter\n",
    "\n",
    "# 👇無視してOK"
   ]
  },
  {
   "cell_type": "code",
   "execution_count": 2,
   "metadata": {},
   "outputs": [
    {
     "name": "stdout",
     "output_type": "stream",
     "text": [
      "1\tNo\tno\tADV\tADV\t_\t7\tdiscourse\twsj_2300.1\t_\r\n",
      "2\t,\t,\tPUNCT\tPUNCT\t_\t7\tpunct\t_\t_\r\n",
      "3\tit\tit\tPRON\tPRON\t_\t7\tnsubj\t_\t_\r\n",
      "4\twas\tbe\tVERB\tVERB\t_\t7\tcop\t_\t_\r\n",
      "5\tn't\tnot\tPART\tPART\t_\t7\tneg\t_\t_\r\n",
      "6\tBlack\tBlack\tPROPN\tPROPN\t_\t7\tcompound\t_\t_\r\n",
      "7\tMonday\tMonday\tPROPN\tPROPN\t_\t0\troot\t_\t_\r\n",
      "8\t.\t.\tPUNCT\tPUNCT\t_\t7\tpunct\t_\t_\r\n",
      "\r\n",
      "1\tOnce\tonce\tADV\tADV\t_\t2\tadvmod\twsj_2300.10\t_\r\n",
      "2\tagain\tagain\tADV\tADV\t_\t9\tadvmod\t_\t_\r\n",
      "3\t-LCB-\t-lcb-\tPUNCT\tPUNCT\t_\t9\tpunct\t_\t_\r\n",
      "4\tthe\tthe\tDET\tDET\t_\t5\tdet\t_\t_\r\n",
      "5\tspecialists\tspecialist\tNOUN\tNOUN\t_\t9\tnsubj\t_\t_\r\n",
      "6\t-RCB-\t-rcb-\tPUNCT\tPUNCT\t_\t9\tpunct\t_\t_\r\n",
      "7\twere\tbe\tVERB\tVERB\t_\t9\tcop\t_\t_\r\n",
      "8\tnot\tnot\tPART\tPART\t_\t9\tneg\t_\t_\r\n",
      "9\table\table\tADJ\tADJ\t_\t24\tccomp\t_\t_\r\n",
      "10\tto\tto\tPART\tPART\t_\t11\tmark\t_\t_\r\n",
      "11\thandle\thandle\tVERB\tVERB\t_\t9\txcomp\t_\t_\r\n"
     ]
    }
   ],
   "source": [
    "# NLPでよく出てくるCoNLLフォーマット\n",
    "!head -20 data/test.conll"
   ]
  },
  {
   "cell_type": "code",
   "execution_count": 3,
   "metadata": {},
   "outputs": [],
   "source": [
    "# CoNLLフォーマットを読み込む関数\n",
    "def read_conll(file):\n",
    "    res = []\n",
    "    words = []\n",
    "    tags = []\n",
    "    for line in open(file):\n",
    "        line = line.strip()\n",
    "         # 空行ならそれまでにつくった文を出力\n",
    "        if len(line) == 0:\n",
    "            res.append((words, tags))\n",
    "            words = []\n",
    "            tags = []\n",
    "        # 単語とタグを取り出す\n",
    "        else:\n",
    "            items = line.split('\\t')\n",
    "            words.append(items[1].lower()) # 小文字にしておく\n",
    "            tags.append(items[3])\n",
    "    return res"
   ]
  },
  {
   "cell_type": "code",
   "execution_count": 4,
   "metadata": {},
   "outputs": [],
   "source": [
    "# 学習データ (training data)\n",
    "train_sents = read_conll('data/train.conll')\n",
    "# 評価用データ (test data)\n",
    "test_sents = read_conll('data/test.conll')\n",
    "# 開発データ (development data)\n",
    "dev_sents = read_conll('data/dev.conll')"
   ]
  },
  {
   "cell_type": "code",
   "execution_count": 5,
   "metadata": {},
   "outputs": [
    {
     "name": "stdout",
     "output_type": "stream",
     "text": [
      "['no', ',', 'it', 'was', \"n't\", 'black', 'monday', '.']\n",
      "['ADV', 'PUNCT', 'PRON', 'VERB', 'PART', 'PROPN', 'PROPN', 'PUNCT']\n"
     ]
    }
   ],
   "source": [
    "words, tags = test_sents[0] # 一番最初の文\n",
    "print(words)\n",
    "print(tags)"
   ]
  },
  {
   "cell_type": "code",
   "execution_count": 6,
   "metadata": {},
   "outputs": [],
   "source": [
    "def sliding_windows(lst):\n",
    "    res = []\n",
    "    for i in range(len(lst) - 6):\n",
    "        res.append(lst[i:i+7])\n",
    "    return res"
   ]
  },
  {
   "cell_type": "code",
   "execution_count": null,
   "metadata": {},
   "outputs": [],
   "source": [
    "sliding_windows(list(range(10)))"
   ]
  },
  {
   "cell_type": "code",
   "execution_count": 7,
   "metadata": {},
   "outputs": [
    {
     "name": "stdout",
     "output_type": "stream",
     "text": [
      "['no', ',', 'it', 'was', \"n't\", 'black', 'monday', '.']\n",
      "[['no', ',', 'it', 'was', \"n't\", 'black', 'monday'], [',', 'it', 'was', \"n't\", 'black', 'monday', '.']]\n"
     ]
    }
   ],
   "source": [
    "print(words)\n",
    "print(sliding_windows(words))"
   ]
  },
  {
   "cell_type": "markdown",
   "metadata": {},
   "source": [
    "👆これはだめ"
   ]
  },
  {
   "cell_type": "code",
   "execution_count": 8,
   "metadata": {},
   "outputs": [],
   "source": [
    "PAD = 'PAD'\n",
    "\n",
    "train_sents = [([PAD] * 3 + words + [PAD] * 3, tags) for words, tags in train_sents]\n",
    "test_sents = [([PAD] * 3 + words + [PAD] * 3, tags) for words, tags in test_sents]\n",
    "dev_sents = [([PAD] * 3 + words + [PAD] * 3, tags) for words, tags in dev_sents]"
   ]
  },
  {
   "cell_type": "code",
   "execution_count": 9,
   "metadata": {},
   "outputs": [
    {
     "name": "stdout",
     "output_type": "stream",
     "text": [
      "['PAD', 'PAD', 'PAD', 'no', ',', 'it', 'was', \"n't\", 'black', 'monday', '.', 'PAD', 'PAD', 'PAD']\n",
      "[['PAD', 'PAD', 'PAD', 'no', ',', 'it', 'was'], ['PAD', 'PAD', 'no', ',', 'it', 'was', \"n't\"], ['PAD', 'no', ',', 'it', 'was', \"n't\", 'black'], ['no', ',', 'it', 'was', \"n't\", 'black', 'monday'], [',', 'it', 'was', \"n't\", 'black', 'monday', '.'], ['it', 'was', \"n't\", 'black', 'monday', '.', 'PAD'], ['was', \"n't\", 'black', 'monday', '.', 'PAD', 'PAD'], [\"n't\", 'black', 'monday', '.', 'PAD', 'PAD', 'PAD']]\n"
     ]
    }
   ],
   "source": [
    "words, tags = test_sents[0]\n",
    "print(words)\n",
    "print(sliding_windows(words))"
   ]
  },
  {
   "cell_type": "code",
   "execution_count": 10,
   "metadata": {},
   "outputs": [],
   "source": [
    "#単語を自然数のIDに変換する辞書\n",
    "UNK = 'UNK'\n",
    "\n",
    "# 単語の埋め込みベクトルがうまくいくためには、その単語がいろいろな文脈で出現してほしい．\n",
    "# 学習データにちょっと(２回より下)しか出ない単語はUNKで置き換える．\n",
    "word_count = Counter(word for words, _ in train_sents for word in words)\n",
    "word_set = [word for word, count in word_count.most_common() if count >= 2]\n",
    "word_set.append(UNK)\n",
    "word_dict = {w: i for i, w in enumerate(word_set)}"
   ]
  },
  {
   "cell_type": "code",
   "execution_count": 11,
   "metadata": {},
   "outputs": [],
   "source": [
    "#POSタグを自然数のIDに変換する辞書\n",
    "tag_set = set(tag for _, tags in train_sents for tag in tags)\n",
    "tag_dict = {w: i for i, w in enumerate(tag_set)}"
   ]
  },
  {
   "cell_type": "code",
   "execution_count": 12,
   "metadata": {},
   "outputs": [
    {
     "name": "stdout",
     "output_type": "stream",
     "text": [
      "word_dict size 21569\n",
      "tag_dict size 17\n"
     ]
    }
   ],
   "source": [
    "print('word_dict size', len(word_dict))\n",
    "print('tag_dict size', len(tag_dict))"
   ]
  },
  {
   "cell_type": "code",
   "execution_count": 13,
   "metadata": {},
   "outputs": [
    {
     "name": "stdout",
     "output_type": "stream",
     "text": [
      "6580\n"
     ]
    }
   ],
   "source": [
    "print(word_dict['dog']) # dogのidは？"
   ]
  },
  {
   "cell_type": "code",
   "execution_count": 14,
   "metadata": {},
   "outputs": [],
   "source": [
    "# データを行列に変換\n",
    "xs = []\n",
    "ys = []\n",
    "for words, tags in train_sents:\n",
    "    for window in sliding_windows(words):\n",
    "        xs.append([word_dict.get(word, word_dict[UNK]) for word in window])\n",
    "    ys.extend(tag_dict[tag] for tag in tags)"
   ]
  },
  {
   "cell_type": "code",
   "execution_count": 15,
   "metadata": {},
   "outputs": [],
   "source": [
    "# numpyの行列に変換\n",
    "xs = np.array(xs, 'i')\n",
    "ys = np.array(ys, 'i')\n",
    "ys = keras.utils.to_categorical(ys)"
   ]
  },
  {
   "cell_type": "code",
   "execution_count": 16,
   "metadata": {},
   "outputs": [
    {
     "name": "stdout",
     "output_type": "stream",
     "text": [
      "dimensions of xs (929552, 7)\n",
      "dimensions of ys (929552, 17)\n"
     ]
    }
   ],
   "source": [
    "print('dimensions of xs', xs.shape)\n",
    "print('dimensions of ys', ys.shape)"
   ]
  },
  {
   "cell_type": "code",
   "execution_count": 17,
   "metadata": {},
   "outputs": [],
   "source": [
    "# test, devも行列にしたいので関数にする\n",
    "def make_matrices(words_and_tags):\n",
    "    xs = []\n",
    "    ys = []\n",
    "    for words, tags in words_and_tags:\n",
    "        for window in sliding_windows(words):\n",
    "            xs.append([word_dict.get(word, word_dict[UNK]) for word in window])\n",
    "        ys.extend(tag_dict[tag] for tag in tags)\n",
    "\n",
    "    xs = np.array(xs, 'i')　# 'i'はint型の意味\n",
    "    ys = np.array(ys, 'i')\n",
    "    ys = keras.utils.to_categorical(ys, len(tag_dict))\n",
    "    print('dimensions of xs', xs.shape)\n",
    "    print('dimensions of ys', ys.shape)\n",
    "    return xs, ys"
   ]
  },
  {
   "cell_type": "code",
   "execution_count": 18,
   "metadata": {},
   "outputs": [
    {
     "name": "stdout",
     "output_type": "stream",
     "text": [
      "dimensions of xs (929552, 7)\n",
      "dimensions of ys (929552, 17)\n",
      "dimensions of xs (55371, 7)\n",
      "dimensions of ys (55371, 17)\n",
      "dimensions of xs (45422, 7)\n",
      "dimensions of ys (45422, 17)\n"
     ]
    }
   ],
   "source": [
    "train_xs, train_ys = make_matrices(train_sents)\n",
    "test_xs, test_ys = make_matrices(test_sents)\n",
    "dev_xs, dev_ys = make_matrices(dev_sents)"
   ]
  },
  {
   "cell_type": "markdown",
   "metadata": {},
   "source": [
    "単語のID列${\\bf x} = x_{-2}, x_{-1}, x, x_{+1}, x_{+2}$に対して  \n",
    "$Embedding(\\bf x) = [ {\\bf e}_{x_{-2}}　| {\\bf e}_{x_{-1}}　| {\\bf e}_{x}　| {\\bf e}_{x_{+1}}　|　{\\bf e}_{x_{+2}} ]^T　= {\\bf E}^T$,  \n",
    "$ Reshape({\\bf E}) = [ {\\bf e}_{x_{-2}}, {\\bf e}_{x_{-1}}, {\\bf e}_{x}, {\\bf e}_{x_{+1}}, {\\bf e}_{x_{+2}} ]^T = {\\bf e}$ (縦に並べる),  \n",
    "$f({\\bf x}) = {\\mathit softmax}(W_3 \\tanh (W_2 \\tanh (W_1 {\\bf e} + b_1) + b_2) + b_3)$."
   ]
  },
  {
   "cell_type": "code",
   "execution_count": 24,
   "metadata": {},
   "outputs": [],
   "source": [
    "VOCAB_SIZE = len(word_dict)  # 単語数\n",
    "EMBED_DIM = 128                      # 埋め込みベクトルの次元数\n",
    "HIDDEN1_DIM = 256                   # 隠れ層１\n",
    "HIDDEN2_DIM = 128                   # 隠れ層２\n",
    "NUM_TAGS = len(tag_dict)\n",
    "\n",
    "model = Sequential()\n",
    "model.add(Embedding(VOCAB_SIZE, EMBED_DIM))\n",
    "model.add(Reshape((EMBED_DIM * 7,)))\n",
    "model.add(Dense(HIDDEN1_DIM, activation='tanh'))\n",
    "model.add(Dense(HIDDEN2_DIM, activation='tanh'))\n",
    "model.add(Dense(NUM_TAGS, activation='softmax'))"
   ]
  },
  {
   "cell_type": "code",
   "execution_count": 25,
   "metadata": {},
   "outputs": [],
   "source": [
    "keras.utils.plot_model(model, 'images/model.png')"
   ]
  },
  {
   "cell_type": "markdown",
   "metadata": {},
   "source": [
    "計算グラフの可視化\n",
    "<img src='model.png'>"
   ]
  },
  {
   "cell_type": "code",
   "execution_count": 26,
   "metadata": {},
   "outputs": [
    {
     "name": "stdout",
     "output_type": "stream",
     "text": [
      "_________________________________________________________________\n",
      "Layer (type)                 Output Shape              Param #   \n",
      "=================================================================\n",
      "embedding_2 (Embedding)      (None, None, 128)         2760832   \n",
      "_________________________________________________________________\n",
      "reshape_2 (Reshape)          (None, 896)               0         \n",
      "_________________________________________________________________\n",
      "dense_4 (Dense)              (None, 256)               229632    \n",
      "_________________________________________________________________\n",
      "dense_5 (Dense)              (None, 128)               32896     \n",
      "_________________________________________________________________\n",
      "dense_6 (Dense)              (None, 17)                2193      \n",
      "=================================================================\n",
      "Total params: 3,025,553\n",
      "Trainable params: 3,025,553\n",
      "Non-trainable params: 0\n",
      "_________________________________________________________________\n"
     ]
    }
   ],
   "source": [
    "model.summary()"
   ]
  },
  {
   "cell_type": "code",
   "execution_count": 28,
   "metadata": {},
   "outputs": [],
   "source": [
    "model.compile(loss='categorical_crossentropy',\n",
    "              optimizer=SGD(),\n",
    "              metrics=['accuracy'])"
   ]
  },
  {
   "cell_type": "code",
   "execution_count": 29,
   "metadata": {},
   "outputs": [
    {
     "name": "stdout",
     "output_type": "stream",
     "text": [
      "Train on 929552 samples, validate on 45422 samples\n",
      "Epoch 1/30\n",
      "929552/929552 [==============================] - 71s 77us/step - loss: 2.4108 - acc: 0.2424 - val_loss: 2.1379 - val_acc: 0.3667\n",
      "Epoch 2/30\n",
      "929552/929552 [==============================] - 72s 78us/step - loss: 1.8908 - acc: 0.4428 - val_loss: 1.6896 - val_acc: 0.4854\n",
      "Epoch 3/30\n",
      "929552/929552 [==============================] - 78s 84us/step - loss: 1.5957 - acc: 0.5020 - val_loss: 1.4664 - val_acc: 0.5330\n",
      "Epoch 4/30\n",
      "929552/929552 [==============================] - 78s 84us/step - loss: 1.3897 - acc: 0.5571 - val_loss: 1.2767 - val_acc: 0.5882\n",
      "Epoch 5/30\n",
      "929552/929552 [==============================] - 77s 83us/step - loss: 1.2152 - acc: 0.6076 - val_loss: 1.1275 - val_acc: 0.6346\n",
      "Epoch 6/30\n",
      "929552/929552 [==============================] - 77s 83us/step - loss: 1.0688 - acc: 0.6559 - val_loss: 0.9931 - val_acc: 0.6786\n",
      "Epoch 7/30\n",
      "929552/929552 [==============================] - 74s 80us/step - loss: 0.9362 - acc: 0.7000 - val_loss: 0.8758 - val_acc: 0.7171\n",
      "Epoch 8/30\n",
      "929552/929552 [==============================] - 74s 79us/step - loss: 0.8272 - acc: 0.7325 - val_loss: 0.7837 - val_acc: 0.7443\n",
      "Epoch 9/30\n",
      "929552/929552 [==============================] - 75s 81us/step - loss: 0.7425 - acc: 0.7566 - val_loss: 0.7113 - val_acc: 0.7653\n",
      "Epoch 10/30\n",
      "929552/929552 [==============================] - 75s 81us/step - loss: 0.6748 - acc: 0.7771 - val_loss: 0.6525 - val_acc: 0.7850\n",
      "Epoch 11/30\n",
      "929552/929552 [==============================] - 76s 82us/step - loss: 0.6185 - acc: 0.7952 - val_loss: 0.6025 - val_acc: 0.8012\n",
      "Epoch 12/30\n",
      "929552/929552 [==============================] - 76s 82us/step - loss: 0.5702 - acc: 0.8112 - val_loss: 0.5598 - val_acc: 0.8152\n",
      "Epoch 13/30\n",
      "929552/929552 [==============================] - 79s 86us/step - loss: 0.5283 - acc: 0.8253 - val_loss: 0.5229 - val_acc: 0.8279\n",
      "Epoch 14/30\n",
      "929552/929552 [==============================] - 76s 82us/step - loss: 0.4919 - acc: 0.8380 - val_loss: 0.4910 - val_acc: 0.8393\n",
      "Epoch 15/30\n",
      "929552/929552 [==============================] - 78s 84us/step - loss: 0.4602 - acc: 0.8491 - val_loss: 0.4629 - val_acc: 0.8482\n",
      "Epoch 16/30\n",
      "929552/929552 [==============================] - 76s 81us/step - loss: 0.4324 - acc: 0.8587 - val_loss: 0.4389 - val_acc: 0.8561\n",
      "Epoch 17/30\n",
      "929552/929552 [==============================] - 81s 87us/step - loss: 0.4081 - acc: 0.8669 - val_loss: 0.4172 - val_acc: 0.8634\n",
      "Epoch 18/30\n",
      "929552/929552 [==============================] - 85s 91us/step - loss: 0.3867 - acc: 0.8742 - val_loss: 0.3987 - val_acc: 0.8692\n",
      "Epoch 19/30\n",
      "929552/929552 [==============================] - 90s 97us/step - loss: 0.3679 - acc: 0.8806 - val_loss: 0.3820 - val_acc: 0.8745\n",
      "Epoch 20/30\n",
      "929552/929552 [==============================] - 82s 88us/step - loss: 0.3511 - acc: 0.8862 - val_loss: 0.3676 - val_acc: 0.8795\n",
      "Epoch 21/30\n",
      "929552/929552 [==============================] - 77s 83us/step - loss: 0.3362 - acc: 0.8910 - val_loss: 0.3543 - val_acc: 0.8837\n",
      "Epoch 22/30\n",
      " 80896/929552 [=>............................] - ETA: 1:13 - loss: 0.3285 - acc: 0.8936"
     ]
    },
    {
     "ename": "KeyboardInterrupt",
     "evalue": "",
     "output_type": "error",
     "traceback": [
      "\u001b[0;31m---------------------------------------------------------------------------\u001b[0m",
      "\u001b[0;31mKeyboardInterrupt\u001b[0m                         Traceback (most recent call last)",
      "\u001b[0;32m<ipython-input-29-8b85d5939cf2>\u001b[0m in \u001b[0;36m<module>\u001b[0;34m()\u001b[0m\n\u001b[1;32m      4\u001b[0m                  \u001b[0mepochs\u001b[0m\u001b[0;34m=\u001b[0m\u001b[0;36m30\u001b[0m\u001b[0;34m,\u001b[0m\u001b[0;34m\u001b[0m\u001b[0m\n\u001b[1;32m      5\u001b[0m                  \u001b[0mverbose\u001b[0m\u001b[0;34m=\u001b[0m\u001b[0;36m1\u001b[0m\u001b[0;34m,\u001b[0m\u001b[0;34m\u001b[0m\u001b[0m\n\u001b[0;32m----> 6\u001b[0;31m                  validation_data=(dev_xs, dev_ys))\n\u001b[0m",
      "\u001b[0;32m/Users/masashi-y/.pyenv/versions/3.6.1/lib/python3.6/site-packages/keras/models.py\u001b[0m in \u001b[0;36mfit\u001b[0;34m(self, x, y, batch_size, epochs, verbose, callbacks, validation_split, validation_data, shuffle, class_weight, sample_weight, initial_epoch, steps_per_epoch, validation_steps, **kwargs)\u001b[0m\n\u001b[1;32m    961\u001b[0m                               \u001b[0minitial_epoch\u001b[0m\u001b[0;34m=\u001b[0m\u001b[0minitial_epoch\u001b[0m\u001b[0;34m,\u001b[0m\u001b[0;34m\u001b[0m\u001b[0m\n\u001b[1;32m    962\u001b[0m                               \u001b[0msteps_per_epoch\u001b[0m\u001b[0;34m=\u001b[0m\u001b[0msteps_per_epoch\u001b[0m\u001b[0;34m,\u001b[0m\u001b[0;34m\u001b[0m\u001b[0m\n\u001b[0;32m--> 963\u001b[0;31m                               validation_steps=validation_steps)\n\u001b[0m\u001b[1;32m    964\u001b[0m \u001b[0;34m\u001b[0m\u001b[0m\n\u001b[1;32m    965\u001b[0m     def evaluate(self, x=None, y=None,\n",
      "\u001b[0;32m/Users/masashi-y/.pyenv/versions/3.6.1/lib/python3.6/site-packages/keras/engine/training.py\u001b[0m in \u001b[0;36mfit\u001b[0;34m(self, x, y, batch_size, epochs, verbose, callbacks, validation_split, validation_data, shuffle, class_weight, sample_weight, initial_epoch, steps_per_epoch, validation_steps, **kwargs)\u001b[0m\n\u001b[1;32m   1703\u001b[0m                               \u001b[0minitial_epoch\u001b[0m\u001b[0;34m=\u001b[0m\u001b[0minitial_epoch\u001b[0m\u001b[0;34m,\u001b[0m\u001b[0;34m\u001b[0m\u001b[0m\n\u001b[1;32m   1704\u001b[0m                               \u001b[0msteps_per_epoch\u001b[0m\u001b[0;34m=\u001b[0m\u001b[0msteps_per_epoch\u001b[0m\u001b[0;34m,\u001b[0m\u001b[0;34m\u001b[0m\u001b[0m\n\u001b[0;32m-> 1705\u001b[0;31m                               validation_steps=validation_steps)\n\u001b[0m\u001b[1;32m   1706\u001b[0m \u001b[0;34m\u001b[0m\u001b[0m\n\u001b[1;32m   1707\u001b[0m     def evaluate(self, x=None, y=None,\n",
      "\u001b[0;32m/Users/masashi-y/.pyenv/versions/3.6.1/lib/python3.6/site-packages/keras/engine/training.py\u001b[0m in \u001b[0;36m_fit_loop\u001b[0;34m(self, f, ins, out_labels, batch_size, epochs, verbose, callbacks, val_f, val_ins, shuffle, callback_metrics, initial_epoch, steps_per_epoch, validation_steps)\u001b[0m\n\u001b[1;32m   1233\u001b[0m                         \u001b[0mins_batch\u001b[0m\u001b[0;34m[\u001b[0m\u001b[0mi\u001b[0m\u001b[0;34m]\u001b[0m \u001b[0;34m=\u001b[0m \u001b[0mins_batch\u001b[0m\u001b[0;34m[\u001b[0m\u001b[0mi\u001b[0m\u001b[0;34m]\u001b[0m\u001b[0;34m.\u001b[0m\u001b[0mtoarray\u001b[0m\u001b[0;34m(\u001b[0m\u001b[0;34m)\u001b[0m\u001b[0;34m\u001b[0m\u001b[0m\n\u001b[1;32m   1234\u001b[0m \u001b[0;34m\u001b[0m\u001b[0m\n\u001b[0;32m-> 1235\u001b[0;31m                     \u001b[0mouts\u001b[0m \u001b[0;34m=\u001b[0m \u001b[0mf\u001b[0m\u001b[0;34m(\u001b[0m\u001b[0mins_batch\u001b[0m\u001b[0;34m)\u001b[0m\u001b[0;34m\u001b[0m\u001b[0m\n\u001b[0m\u001b[1;32m   1236\u001b[0m                     \u001b[0;32mif\u001b[0m \u001b[0;32mnot\u001b[0m \u001b[0misinstance\u001b[0m\u001b[0;34m(\u001b[0m\u001b[0mouts\u001b[0m\u001b[0;34m,\u001b[0m \u001b[0mlist\u001b[0m\u001b[0;34m)\u001b[0m\u001b[0;34m:\u001b[0m\u001b[0;34m\u001b[0m\u001b[0m\n\u001b[1;32m   1237\u001b[0m                         \u001b[0mouts\u001b[0m \u001b[0;34m=\u001b[0m \u001b[0;34m[\u001b[0m\u001b[0mouts\u001b[0m\u001b[0;34m]\u001b[0m\u001b[0;34m\u001b[0m\u001b[0m\n",
      "\u001b[0;32m/Users/masashi-y/.pyenv/versions/3.6.1/lib/python3.6/site-packages/keras/backend/tensorflow_backend.py\u001b[0m in \u001b[0;36m__call__\u001b[0;34m(self, inputs)\u001b[0m\n\u001b[1;32m   2476\u001b[0m         \u001b[0msession\u001b[0m \u001b[0;34m=\u001b[0m \u001b[0mget_session\u001b[0m\u001b[0;34m(\u001b[0m\u001b[0;34m)\u001b[0m\u001b[0;34m\u001b[0m\u001b[0m\n\u001b[1;32m   2477\u001b[0m         updated = session.run(fetches=fetches, feed_dict=feed_dict,\n\u001b[0;32m-> 2478\u001b[0;31m                               **self.session_kwargs)\n\u001b[0m\u001b[1;32m   2479\u001b[0m         \u001b[0;32mreturn\u001b[0m \u001b[0mupdated\u001b[0m\u001b[0;34m[\u001b[0m\u001b[0;34m:\u001b[0m\u001b[0mlen\u001b[0m\u001b[0;34m(\u001b[0m\u001b[0mself\u001b[0m\u001b[0;34m.\u001b[0m\u001b[0moutputs\u001b[0m\u001b[0;34m)\u001b[0m\u001b[0;34m]\u001b[0m\u001b[0;34m\u001b[0m\u001b[0m\n\u001b[1;32m   2480\u001b[0m \u001b[0;34m\u001b[0m\u001b[0m\n",
      "\u001b[0;32m/Users/masashi-y/.pyenv/versions/3.6.1/lib/python3.6/site-packages/tensorflow/python/client/session.py\u001b[0m in \u001b[0;36mrun\u001b[0;34m(self, fetches, feed_dict, options, run_metadata)\u001b[0m\n\u001b[1;32m    887\u001b[0m     \u001b[0;32mtry\u001b[0m\u001b[0;34m:\u001b[0m\u001b[0;34m\u001b[0m\u001b[0m\n\u001b[1;32m    888\u001b[0m       result = self._run(None, fetches, feed_dict, options_ptr,\n\u001b[0;32m--> 889\u001b[0;31m                          run_metadata_ptr)\n\u001b[0m\u001b[1;32m    890\u001b[0m       \u001b[0;32mif\u001b[0m \u001b[0mrun_metadata\u001b[0m\u001b[0;34m:\u001b[0m\u001b[0;34m\u001b[0m\u001b[0m\n\u001b[1;32m    891\u001b[0m         \u001b[0mproto_data\u001b[0m \u001b[0;34m=\u001b[0m \u001b[0mtf_session\u001b[0m\u001b[0;34m.\u001b[0m\u001b[0mTF_GetBuffer\u001b[0m\u001b[0;34m(\u001b[0m\u001b[0mrun_metadata_ptr\u001b[0m\u001b[0;34m)\u001b[0m\u001b[0;34m\u001b[0m\u001b[0m\n",
      "\u001b[0;32m/Users/masashi-y/.pyenv/versions/3.6.1/lib/python3.6/site-packages/tensorflow/python/client/session.py\u001b[0m in \u001b[0;36m_run\u001b[0;34m(self, handle, fetches, feed_dict, options, run_metadata)\u001b[0m\n\u001b[1;32m   1118\u001b[0m     \u001b[0;32mif\u001b[0m \u001b[0mfinal_fetches\u001b[0m \u001b[0;32mor\u001b[0m \u001b[0mfinal_targets\u001b[0m \u001b[0;32mor\u001b[0m \u001b[0;34m(\u001b[0m\u001b[0mhandle\u001b[0m \u001b[0;32mand\u001b[0m \u001b[0mfeed_dict_tensor\u001b[0m\u001b[0;34m)\u001b[0m\u001b[0;34m:\u001b[0m\u001b[0;34m\u001b[0m\u001b[0m\n\u001b[1;32m   1119\u001b[0m       results = self._do_run(handle, final_targets, final_fetches,\n\u001b[0;32m-> 1120\u001b[0;31m                              feed_dict_tensor, options, run_metadata)\n\u001b[0m\u001b[1;32m   1121\u001b[0m     \u001b[0;32melse\u001b[0m\u001b[0;34m:\u001b[0m\u001b[0;34m\u001b[0m\u001b[0m\n\u001b[1;32m   1122\u001b[0m       \u001b[0mresults\u001b[0m \u001b[0;34m=\u001b[0m \u001b[0;34m[\u001b[0m\u001b[0;34m]\u001b[0m\u001b[0;34m\u001b[0m\u001b[0m\n",
      "\u001b[0;32m/Users/masashi-y/.pyenv/versions/3.6.1/lib/python3.6/site-packages/tensorflow/python/client/session.py\u001b[0m in \u001b[0;36m_do_run\u001b[0;34m(self, handle, target_list, fetch_list, feed_dict, options, run_metadata)\u001b[0m\n\u001b[1;32m   1315\u001b[0m     \u001b[0;32mif\u001b[0m \u001b[0mhandle\u001b[0m \u001b[0;32mis\u001b[0m \u001b[0;32mNone\u001b[0m\u001b[0;34m:\u001b[0m\u001b[0;34m\u001b[0m\u001b[0m\n\u001b[1;32m   1316\u001b[0m       return self._do_call(_run_fn, self._session, feeds, fetches, targets,\n\u001b[0;32m-> 1317\u001b[0;31m                            options, run_metadata)\n\u001b[0m\u001b[1;32m   1318\u001b[0m     \u001b[0;32melse\u001b[0m\u001b[0;34m:\u001b[0m\u001b[0;34m\u001b[0m\u001b[0m\n\u001b[1;32m   1319\u001b[0m       \u001b[0;32mreturn\u001b[0m \u001b[0mself\u001b[0m\u001b[0;34m.\u001b[0m\u001b[0m_do_call\u001b[0m\u001b[0;34m(\u001b[0m\u001b[0m_prun_fn\u001b[0m\u001b[0;34m,\u001b[0m \u001b[0mself\u001b[0m\u001b[0;34m.\u001b[0m\u001b[0m_session\u001b[0m\u001b[0;34m,\u001b[0m \u001b[0mhandle\u001b[0m\u001b[0;34m,\u001b[0m \u001b[0mfeeds\u001b[0m\u001b[0;34m,\u001b[0m \u001b[0mfetches\u001b[0m\u001b[0;34m)\u001b[0m\u001b[0;34m\u001b[0m\u001b[0m\n",
      "\u001b[0;32m/Users/masashi-y/.pyenv/versions/3.6.1/lib/python3.6/site-packages/tensorflow/python/client/session.py\u001b[0m in \u001b[0;36m_do_call\u001b[0;34m(self, fn, *args)\u001b[0m\n\u001b[1;32m   1321\u001b[0m   \u001b[0;32mdef\u001b[0m \u001b[0m_do_call\u001b[0m\u001b[0;34m(\u001b[0m\u001b[0mself\u001b[0m\u001b[0;34m,\u001b[0m \u001b[0mfn\u001b[0m\u001b[0;34m,\u001b[0m \u001b[0;34m*\u001b[0m\u001b[0margs\u001b[0m\u001b[0;34m)\u001b[0m\u001b[0;34m:\u001b[0m\u001b[0;34m\u001b[0m\u001b[0m\n\u001b[1;32m   1322\u001b[0m     \u001b[0;32mtry\u001b[0m\u001b[0;34m:\u001b[0m\u001b[0;34m\u001b[0m\u001b[0m\n\u001b[0;32m-> 1323\u001b[0;31m       \u001b[0;32mreturn\u001b[0m \u001b[0mfn\u001b[0m\u001b[0;34m(\u001b[0m\u001b[0;34m*\u001b[0m\u001b[0margs\u001b[0m\u001b[0;34m)\u001b[0m\u001b[0;34m\u001b[0m\u001b[0m\n\u001b[0m\u001b[1;32m   1324\u001b[0m     \u001b[0;32mexcept\u001b[0m \u001b[0merrors\u001b[0m\u001b[0;34m.\u001b[0m\u001b[0mOpError\u001b[0m \u001b[0;32mas\u001b[0m \u001b[0me\u001b[0m\u001b[0;34m:\u001b[0m\u001b[0;34m\u001b[0m\u001b[0m\n\u001b[1;32m   1325\u001b[0m       \u001b[0mmessage\u001b[0m \u001b[0;34m=\u001b[0m \u001b[0mcompat\u001b[0m\u001b[0;34m.\u001b[0m\u001b[0mas_text\u001b[0m\u001b[0;34m(\u001b[0m\u001b[0me\u001b[0m\u001b[0;34m.\u001b[0m\u001b[0mmessage\u001b[0m\u001b[0;34m)\u001b[0m\u001b[0;34m\u001b[0m\u001b[0m\n",
      "\u001b[0;32m/Users/masashi-y/.pyenv/versions/3.6.1/lib/python3.6/site-packages/tensorflow/python/client/session.py\u001b[0m in \u001b[0;36m_run_fn\u001b[0;34m(session, feed_dict, fetch_list, target_list, options, run_metadata)\u001b[0m\n\u001b[1;32m   1300\u001b[0m           return tf_session.TF_Run(session, options,\n\u001b[1;32m   1301\u001b[0m                                    \u001b[0mfeed_dict\u001b[0m\u001b[0;34m,\u001b[0m \u001b[0mfetch_list\u001b[0m\u001b[0;34m,\u001b[0m \u001b[0mtarget_list\u001b[0m\u001b[0;34m,\u001b[0m\u001b[0;34m\u001b[0m\u001b[0m\n\u001b[0;32m-> 1302\u001b[0;31m                                    status, run_metadata)\n\u001b[0m\u001b[1;32m   1303\u001b[0m \u001b[0;34m\u001b[0m\u001b[0m\n\u001b[1;32m   1304\u001b[0m     \u001b[0;32mdef\u001b[0m \u001b[0m_prun_fn\u001b[0m\u001b[0;34m(\u001b[0m\u001b[0msession\u001b[0m\u001b[0;34m,\u001b[0m \u001b[0mhandle\u001b[0m\u001b[0;34m,\u001b[0m \u001b[0mfeed_dict\u001b[0m\u001b[0;34m,\u001b[0m \u001b[0mfetch_list\u001b[0m\u001b[0;34m)\u001b[0m\u001b[0;34m:\u001b[0m\u001b[0;34m\u001b[0m\u001b[0m\n",
      "\u001b[0;31mKeyboardInterrupt\u001b[0m: "
     ]
    }
   ],
   "source": [
    "# 学習\n",
    "model.fit(train_xs, train_ys,\n",
    "                 batch_size=1024,\n",
    "                 epochs=30,\n",
    "                 verbose=1,\n",
    "                 validation_data=(dev_xs, dev_ys))\n",
    "\n",
    "# 学習がめんどい場合こっち (学習済みのパラメータを読み込み)\n",
    "# model.load_weights('models/weights.h5')"
   ]
  },
  {
   "cell_type": "code",
   "execution_count": null,
   "metadata": {},
   "outputs": [],
   "source": [
    "# 学習したモデルを適当に使ってみるとなんか行列が出てきます\n",
    "model.predict(test_xs[:10])"
   ]
  },
  {
   "cell_type": "code",
   "execution_count": null,
   "metadata": {},
   "outputs": [],
   "source": [
    "# その行列の形\n",
    "Out[32].shape"
   ]
  },
  {
   "cell_type": "code",
   "execution_count": null,
   "metadata": {},
   "outputs": [],
   "source": [
    "# POSタグとIDの逆向きの辞書\n",
    "rev_tag_dict = {v: k for k, v in tag_dict.items()}"
   ]
  },
  {
   "cell_type": "code",
   "execution_count": null,
   "metadata": {
    "scrolled": true
   },
   "outputs": [],
   "source": [
    "# なにかでてきました\n",
    "[rev_tag_dict[i] for i in np.argmax(Out[32], 1)]"
   ]
  },
  {
   "cell_type": "code",
   "execution_count": null,
   "metadata": {},
   "outputs": [],
   "source": [
    "# 単語リストを入力してPOSタグを予測する関数\n",
    "def predict(words):\n",
    "    words = [PAD, PAD] + words + [PAD, PAD]\n",
    "    ids = [word_dict.get(word, word_dict[UNK]) for word in words]\n",
    "    windows = sliding_windows(ids)\n",
    "    matrix = np.array(windows, 'i')\n",
    "    probabilities = model.predict(matrix)\n",
    "    result_ids = np.argmax(probabilities, 1)\n",
    "    result = [rev_tag_dict[i] for i in result_ids]\n",
    "    return result"
   ]
  },
  {
   "cell_type": "code",
   "execution_count": null,
   "metadata": {},
   "outputs": [],
   "source": [
    "predict(['this', 'is', 'a', 'test', 'sentence', '.'])"
   ]
  },
  {
   "cell_type": "code",
   "execution_count": null,
   "metadata": {},
   "outputs": [],
   "source": [
    "import random\n",
    "for _ in range(5):\n",
    "    i = random.randint(0, len(test_sents))\n",
    "    words, tags = test_sents[i]\n",
    "    words = words[2:-2]\n",
    "    print('sentence:', words)\n",
    "    print('predict:', predict(words))\n",
    "    print('answer:', tags)"
   ]
  },
  {
   "cell_type": "code",
   "execution_count": null,
   "metadata": {},
   "outputs": [],
   "source": [
    "model.save_weights('models/weights.h5')"
   ]
  }
 ],
 "metadata": {
  "kernelspec": {
   "display_name": "Python 3",
   "language": "python",
   "name": "python3"
  },
  "language_info": {
   "codemirror_mode": {
    "name": "ipython",
    "version": 3
   },
   "file_extension": ".py",
   "mimetype": "text/x-python",
   "name": "python",
   "nbconvert_exporter": "python",
   "pygments_lexer": "ipython3",
   "version": "3.6.1"
  }
 },
 "nbformat": 4,
 "nbformat_minor": 2
}
