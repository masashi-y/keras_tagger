{
 "cells": [
  {
   "cell_type": "code",
   "execution_count": 1,
   "metadata": {},
   "outputs": [
    {
     "name": "stderr",
     "output_type": "stream",
     "text": [
      "/Users/masashi-y/.pyenv/versions/3.6.1/lib/python3.6/site-packages/h5py/__init__.py:36: FutureWarning: Conversion of the second argument of issubdtype from `float` to `np.floating` is deprecated. In future, it will be treated as `np.float64 == np.dtype(float).type`.\n",
      "  from ._conv import register_converters as _register_converters\n",
      "Using TensorFlow backend.\n",
      "/Users/masashi-y/.pyenv/versions/3.6.1/lib/python3.6/importlib/_bootstrap.py:205: RuntimeWarning: compiletime version 3.5 of module 'tensorflow.python.framework.fast_tensor_util' does not match runtime version 3.6\n",
      "  return f(*args, **kwds)\n"
     ]
    }
   ],
   "source": [
    "# つかうライブラリの読み込み\n",
    "\n",
    "import numpy as np\n",
    "import keras\n",
    "from keras.models import Sequential\n",
    "from keras.layers import Dense, Dropout, Embedding, Input, Reshape\n",
    "from keras.optimizers import SGD\n",
    "from collections import Counter"
   ]
  },
  {
   "cell_type": "code",
   "execution_count": 2,
   "metadata": {},
   "outputs": [
    {
     "name": "stdout",
     "output_type": "stream",
     "text": [
      "1\tNo\tno\tADV\tADV\t_\t7\tdiscourse\twsj_2300.1\t_\r\n",
      "2\t,\t,\tPUNCT\tPUNCT\t_\t7\tpunct\t_\t_\r\n",
      "3\tit\tit\tPRON\tPRON\t_\t7\tnsubj\t_\t_\r\n",
      "4\twas\tbe\tVERB\tVERB\t_\t7\tcop\t_\t_\r\n",
      "5\tn't\tnot\tPART\tPART\t_\t7\tneg\t_\t_\r\n",
      "6\tBlack\tBlack\tPROPN\tPROPN\t_\t7\tcompound\t_\t_\r\n",
      "7\tMonday\tMonday\tPROPN\tPROPN\t_\t0\troot\t_\t_\r\n",
      "8\t.\t.\tPUNCT\tPUNCT\t_\t7\tpunct\t_\t_\r\n",
      "\r\n",
      "1\tOnce\tonce\tADV\tADV\t_\t2\tadvmod\twsj_2300.10\t_\r\n",
      "2\tagain\tagain\tADV\tADV\t_\t9\tadvmod\t_\t_\r\n",
      "3\t-LCB-\t-lcb-\tPUNCT\tPUNCT\t_\t9\tpunct\t_\t_\r\n",
      "4\tthe\tthe\tDET\tDET\t_\t5\tdet\t_\t_\r\n",
      "5\tspecialists\tspecialist\tNOUN\tNOUN\t_\t9\tnsubj\t_\t_\r\n",
      "6\t-RCB-\t-rcb-\tPUNCT\tPUNCT\t_\t9\tpunct\t_\t_\r\n",
      "7\twere\tbe\tVERB\tVERB\t_\t9\tcop\t_\t_\r\n",
      "8\tnot\tnot\tPART\tPART\t_\t9\tneg\t_\t_\r\n",
      "9\table\table\tADJ\tADJ\t_\t24\tccomp\t_\t_\r\n",
      "10\tto\tto\tPART\tPART\t_\t11\tmark\t_\t_\r\n",
      "11\thandle\thandle\tVERB\tVERB\t_\t9\txcomp\t_\t_\r\n"
     ]
    }
   ],
   "source": [
    "# NLPでよく出てくるCoNLLフォーマット\n",
    "!head -20 data/test.conll"
   ]
  },
  {
   "cell_type": "code",
   "execution_count": 3,
   "metadata": {},
   "outputs": [],
   "source": [
    "# CoNLLフォーマットを読み込む関数\n",
    "def read_conll(file):\n",
    "    res = []\n",
    "    words = []\n",
    "    tags = []\n",
    "    for line in open(file):\n",
    "        line = line.strip()\n",
    "         # 空行ならそれまでにつくった文を出力\n",
    "        if len(line) == 0:\n",
    "            res.append((words, tags))\n",
    "            words = []\n",
    "            tags = []\n",
    "        # 単語とタグを取り出す\n",
    "        else:\n",
    "            items = line.split('\\t')\n",
    "            words.append(items[1].lower()) # 小文字にしておく\n",
    "            tags.append(items[3])\n",
    "    return res"
   ]
  },
  {
   "cell_type": "code",
   "execution_count": 4,
   "metadata": {},
   "outputs": [],
   "source": [
    "# 学習データ (training data)\n",
    "train_sents = read_conll('data/train.conll')\n",
    "# 評価用データ (test data)\n",
    "test_sents = read_conll('data/test.conll')\n",
    "# 開発データ (development data)\n",
    "dev_sents = read_conll('data/dev.conll')"
   ]
  },
  {
   "cell_type": "code",
   "execution_count": 5,
   "metadata": {},
   "outputs": [
    {
     "name": "stdout",
     "output_type": "stream",
     "text": [
      "['no', ',', 'it', 'was', \"n't\", 'black', 'monday', '.']\n",
      "['ADV', 'PUNCT', 'PRON', 'VERB', 'PART', 'PROPN', 'PROPN', 'PUNCT']\n"
     ]
    }
   ],
   "source": [
    "words, tags = test_sents[0] # 一番最初の文\n",
    "print(words)\n",
    "print(tags)"
   ]
  },
  {
   "cell_type": "code",
   "execution_count": 6,
   "metadata": {},
   "outputs": [],
   "source": [
    "def sliding_windows(lst):\n",
    "    res = []\n",
    "    for i in range(len(lst) - 4):\n",
    "        res.append(lst[i:i+5])\n",
    "    return res"
   ]
  },
  {
   "cell_type": "code",
   "execution_count": 7,
   "metadata": {},
   "outputs": [
    {
     "name": "stdout",
     "output_type": "stream",
     "text": [
      "['no', ',', 'it', 'was', \"n't\", 'black', 'monday', '.'] ----->\n",
      "[['no', ',', 'it', 'was', \"n't\"], [',', 'it', 'was', \"n't\", 'black'], ['it', 'was', \"n't\", 'black', 'monday'], ['was', \"n't\", 'black', 'monday', '.']]\n"
     ]
    }
   ],
   "source": [
    "print(words, '----->')\n",
    "print(sliding_windows(words))"
   ]
  },
  {
   "cell_type": "code",
   "execution_count": 8,
   "metadata": {},
   "outputs": [],
   "source": [
    "PAD = 'PAD'\n",
    "\n",
    "train_sents = [([PAD, PAD] + words + [PAD, PAD], tags) for words, tags in train_sents]\n",
    "test_sents = [([PAD, PAD] + words + [PAD, PAD], tags) for words, tags in test_sents]\n",
    "dev_sents = [([PAD, PAD] + words + [PAD, PAD], tags) for words, tags in dev_sents]"
   ]
  },
  {
   "cell_type": "code",
   "execution_count": 9,
   "metadata": {},
   "outputs": [
    {
     "name": "stdout",
     "output_type": "stream",
     "text": [
      "['no', ',', 'it', 'was', \"n't\", 'black', 'monday', '.'] ----->\n",
      "[['no', ',', 'it', 'was', \"n't\"], [',', 'it', 'was', \"n't\", 'black'], ['it', 'was', \"n't\", 'black', 'monday'], ['was', \"n't\", 'black', 'monday', '.']]\n"
     ]
    }
   ],
   "source": [
    "print(words, '----->')\n",
    "print(sliding_windows(words))"
   ]
  },
  {
   "cell_type": "code",
   "execution_count": 10,
   "metadata": {},
   "outputs": [],
   "source": [
    "#単語を自然数のIDに変換する辞書\n",
    "UNK = 'UNK'\n",
    "\n",
    "# 単語の埋め込みベクトルがうまくいくためには、その単語がいろいろな文脈で出現してほしい．\n",
    "# 学習データにちょっと(２回より下)しか出ない単語はUNKで置き換える．\n",
    "word_count = Counter(word for words, _ in train_sents for word in words)\n",
    "word_set = [word for word, count in word_count.most_common() if count >= 2]\n",
    "word_set.append(UNK)\n",
    "word_dict = {w: i for i, w in enumerate(word_set)}"
   ]
  },
  {
   "cell_type": "code",
   "execution_count": 11,
   "metadata": {},
   "outputs": [],
   "source": [
    "#POSタグを自然数のIDに変換する辞書\n",
    "tag_set = set(tag for _, tags in train_sents for tag in tags)\n",
    "tag_dict = {w: i for i, w in enumerate(tag_set)}"
   ]
  },
  {
   "cell_type": "code",
   "execution_count": 12,
   "metadata": {},
   "outputs": [
    {
     "name": "stdout",
     "output_type": "stream",
     "text": [
      "word_dict size 21569\n",
      "tag_dict size 17\n"
     ]
    }
   ],
   "source": [
    "print('word_dict size', len(word_dict))\n",
    "print('tag_dict size', len(tag_dict))"
   ]
  },
  {
   "cell_type": "code",
   "execution_count": 13,
   "metadata": {},
   "outputs": [
    {
     "name": "stdout",
     "output_type": "stream",
     "text": [
      "6580\n"
     ]
    }
   ],
   "source": [
    "print(word_dict['dog']) # dogのidは？"
   ]
  },
  {
   "cell_type": "code",
   "execution_count": null,
   "metadata": {},
   "outputs": [],
   "source": [
    "# データを行列に変換\n",
    "xs = []\n",
    "ys = []\n",
    "for words, tags in train_sents:\n",
    "    for window in sliding_windows(words):\n",
    "        xs.append([word_dict.get(word, word_dict[UNK]) for word in window])\n",
    "    ys.extend(tag_dict[tag] for tag in tags)"
   ]
  },
  {
   "cell_type": "code",
   "execution_count": null,
   "metadata": {},
   "outputs": [],
   "source": [
    "# numpyの行列に変換\n",
    "xs = np.array(xs, 'i')\n",
    "ys = np.array(ys, 'i')\n",
    "ys = keras.utils.to_categorical(ys)"
   ]
  },
  {
   "cell_type": "code",
   "execution_count": null,
   "metadata": {},
   "outputs": [],
   "source": [
    "print('dimensions of xs', xs.shape)\n",
    "print('dimensions of ys', ys.shape)"
   ]
  },
  {
   "cell_type": "code",
   "execution_count": null,
   "metadata": {},
   "outputs": [],
   "source": [
    "# test, devも行列にしたいので関数にする\n",
    "def make_matrices(words_and_tags):\n",
    "    xs = []\n",
    "    ys = []\n",
    "    for words, tags in words_and_tags:\n",
    "        for window in sliding_windows(words):\n",
    "            xs.append([word_dict.get(word, word_dict[UNK]) for word in window])\n",
    "        ys.extend(tag_dict[tag] for tag in tags)\n",
    "\n",
    "    xs = np.array(xs, 'i')\n",
    "    ys = np.array(ys, 'i')\n",
    "    ys = keras.utils.to_categorical(ys, len(tag_dict))\n",
    "    print('dimensions of xs', xs.shape)\n",
    "    print('dimensions of ys', ys.shape)\n",
    "    return xs, ys"
   ]
  },
  {
   "cell_type": "code",
   "execution_count": null,
   "metadata": {},
   "outputs": [],
   "source": [
    "train_xs, train_ys = make_matrices(train_sents)\n",
    "test_xs, test_ys = make_matrices(test_sents)\n",
    "dev_xs, dev_ys = make_matrices(dev_sents)"
   ]
  },
  {
   "cell_type": "markdown",
   "metadata": {},
   "source": [
    "単語のID列${\\bf x} = x_{-2}, x_{-1}, x, x_{+1}, x_{+2}$に対して  \n",
    "$Embedding(\\bf x) = [ {\\bf e}_{x_{-2}}　| {\\bf e}_{x_{-1}}　| {\\bf e}_{x}　| {\\bf e}_{x_{+1}}　|　{\\bf e}_{x_{+2}} ]^T　= {\\bf E}^T$,  \n",
    "$ Reshape({\\bf E}) = [ {\\bf e}_{x_{-2}}, {\\bf e}_{x_{-1}}, {\\bf e}_{x}, {\\bf e}_{x_{+1}}, {\\bf e}_{x_{+2}} ]^T = {\\bf e}$ (縦に並べる),  \n",
    "$f({\\bf x}) = {\\mathit softmax}(W_3 \\tanh (W_2 \\tanh (W_1 {\\bf e} + b_1) + b_2) + b_3)$."
   ]
  },
  {
   "cell_type": "code",
   "execution_count": null,
   "metadata": {},
   "outputs": [],
   "source": [
    "VOCAB_SIZE = len(word_dict)  # 単語数\n",
    "EMBED_DIM = 128                      # 埋め込みベクトルの次元数\n",
    "HIDDEN1_DIM = 256                   # 隠れ層１\n",
    "HIDDEN2_DIM = 256                   # 隠れ層２\n",
    "NUM_TAGS = len(tag_dict)\n",
    "\n",
    "model = Sequential()\n",
    "# model.add(Input(shape=(None, 5))) # ウィンドウ幅:5\n",
    "model.add(Embedding(VOCAB_SIZE, EMBED_DIM))\n",
    "model.add(Reshape((EMBED_DIM * 5,)))\n",
    "model.add(Dense(HIDDEN1_DIM, activation='tanh'))\n",
    "model.add(Dense(HIDDEN2_DIM, activation='tanh'))\n",
    "model.add(Dense(NUM_TAGS, activation='softmax'))"
   ]
  },
  {
   "cell_type": "code",
   "execution_count": null,
   "metadata": {},
   "outputs": [],
   "source": [
    "keras.utils.plot_model(model)"
   ]
  },
  {
   "cell_type": "markdown",
   "metadata": {},
   "source": [
    "計算グラフの可視化\n",
    "<img src='model.png'>"
   ]
  },
  {
   "cell_type": "code",
   "execution_count": null,
   "metadata": {},
   "outputs": [],
   "source": [
    "model.summary()"
   ]
  },
  {
   "cell_type": "code",
   "execution_count": null,
   "metadata": {},
   "outputs": [],
   "source": [
    "model.compile(loss='categorical_crossentropy',\n",
    "              optimizer=SGD(),\n",
    "              metrics=['accuracy'])"
   ]
  },
  {
   "cell_type": "code",
   "execution_count": null,
   "metadata": {},
   "outputs": [],
   "source": [
    "# 学習\n",
    "model.fit(train_xs, train_ys,\n",
    "                 batch_size=1024,\n",
    "                 epochs=30,\n",
    "                 verbose=1,\n",
    "                 validation_data=(dev_xs, dev_ys))"
   ]
  },
  {
   "cell_type": "code",
   "execution_count": null,
   "metadata": {},
   "outputs": [],
   "source": [
    "# 学習したモデルを適当に使ってみるとなんか行列が出てきます\n",
    "model.predict(test_xs[:10])"
   ]
  },
  {
   "cell_type": "code",
   "execution_count": null,
   "metadata": {},
   "outputs": [],
   "source": [
    "# その行列の形\n",
    "Out[32].shape"
   ]
  },
  {
   "cell_type": "code",
   "execution_count": null,
   "metadata": {},
   "outputs": [],
   "source": [
    "# POSタグとIDの逆向きの辞書\n",
    "rev_tag_dict = {v: k for k, v in tag_dict.items()}"
   ]
  },
  {
   "cell_type": "code",
   "execution_count": null,
   "metadata": {
    "scrolled": true
   },
   "outputs": [],
   "source": [
    "# なにかでてきました\n",
    "[rev_tag_dict[i] for i in np.argmax(Out[32], 1)]"
   ]
  },
  {
   "cell_type": "code",
   "execution_count": null,
   "metadata": {},
   "outputs": [],
   "source": [
    "# 単語リストを入力してPOSタグを予測する関数\n",
    "def predict(words):\n",
    "    words = [PAD, PAD] + words + [PAD, PAD]\n",
    "    ids = [word_dict.get(word, word_dict[UNK]) for word in words]\n",
    "    windows = sliding_windows(ids)\n",
    "    matrix = np.array(windows, 'i')\n",
    "    probabilities = model.predict(matrix)\n",
    "    result_ids = np.argmax(probabilities, 1)\n",
    "    result = [rev_tag_dict[i] for i in result_ids]\n",
    "    return result"
   ]
  },
  {
   "cell_type": "code",
   "execution_count": null,
   "metadata": {},
   "outputs": [],
   "source": [
    "predict(['this', 'is', 'a', 'test', 'sentence', '.'])"
   ]
  },
  {
   "cell_type": "code",
   "execution_count": null,
   "metadata": {},
   "outputs": [],
   "source": [
    "import random\n",
    "for _ in range(5):\n",
    "    i = random.randint(0, len(test_sents))\n",
    "    words, tags = test_sents[i]\n",
    "    words = words[2:-2]\n",
    "    print('sentence:', words)\n",
    "    print('predict:', predict(words))\n",
    "    print('answer:', tags)"
   ]
  },
  {
   "cell_type": "code",
   "execution_count": null,
   "metadata": {},
   "outputs": [],
   "source": []
  }
 ],
 "metadata": {
  "kernelspec": {
   "display_name": "Python 3",
   "language": "python",
   "name": "python3"
  },
  "language_info": {
   "codemirror_mode": {
    "name": "ipython",
    "version": 3
   },
   "file_extension": ".py",
   "mimetype": "text/x-python",
   "name": "python",
   "nbconvert_exporter": "python",
   "pygments_lexer": "ipython3",
   "version": "3.6.1"
  }
 },
 "nbformat": 4,
 "nbformat_minor": 2
}
