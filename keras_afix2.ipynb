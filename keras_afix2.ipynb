{
 "cells": [
  {
   "cell_type": "markdown",
   "metadata": {},
   "source": [
    "今回は、feedforward neural networkを使って、固定ウィンドウ幅(左右３)の情報を使って単語の品詞タグを予測するモデルを学習してみます．  \n",
    "かなりシンプルですが、高速に予測できるという魅力から、より強力なモデルが沢山存在する今でも、NLPのいろんなツールで使われてます．  \n",
    "easyccg: https://github.com/mikelewis0/easyccg  \n",
    "syntaxnet: https://github.com/tensorflow/models/tree/master/research/syntaxnet  \n",
    "stanford parser: https://nlp.stanford.edu/software/lex-parser.shtml  \n",
    "(イメージ)　　\n",
    "<img src='images/ff.png'>\n",
    "(画像: https://xbt.net/blog/what-is-enigma/)"
   ]
  },
  {
   "cell_type": "markdown",
   "metadata": {},
   "source": [
    "POSタグ(Part-Of-Speech, 品詞タグ)のリスト:  \n",
    "- ADJ: adjective\n",
    "- ADP: adposition\n",
    "- ADV: adverb\n",
    "- AUX: auxiliary\n",
    "- CCONJ: coordinating conjunction\n",
    "- DET: determiner\n",
    "- INTJ: interjection\n",
    "- NOUN: noun\n",
    "- NUM: numeral\n",
    "- PART: particle\n",
    "- PRON: pronoun\n",
    "- PROPN: proper noun\n",
    "- PUNCT: punctuation\n",
    "- SCONJ: subordinating conjunction\n",
    "- SYM: symbol\n",
    "- VERB: verb\n",
    "- X: other"
   ]
  },
  {
   "cell_type": "code",
   "execution_count": 1,
   "metadata": {},
   "outputs": [
    {
     "name": "stderr",
     "output_type": "stream",
     "text": [
      "Using TensorFlow backend.\n"
     ]
    }
   ],
   "source": [
    "# つかうライブラリの読み込み\n",
    "\n",
    "import numpy as np\n",
    "import keras\n",
    "from keras.models import Sequential\n",
    "from keras.layers import Dense, Dropout, Embedding, Input, Reshape, Concatenate\n",
    "from keras.optimizers import SGD\n",
    "from collections import Counter\n",
    "\n",
    "# 👇無視してOK"
   ]
  },
  {
   "cell_type": "code",
   "execution_count": 2,
   "metadata": {},
   "outputs": [],
   "source": [
    "import tensorflow as tf\n",
    "from keras.backend.tensorflow_backend import set_session\n",
    "config = tf.ConfigProto(\n",
    "    gpu_options=tf.GPUOptions(\n",
    "        visible_device_list=\"0\", # specify GPU number\n",
    "        allow_growth=True\n",
    "    )\n",
    ")\n",
    "set_session(tf.Session(config=config))"
   ]
  },
  {
   "cell_type": "code",
   "execution_count": 3,
   "metadata": {},
   "outputs": [],
   "source": [
    "# CoNLLフォーマットを読み込む関数\n",
    "def read_conll(file):\n",
    "    res = []\n",
    "    words = []\n",
    "    tags = []\n",
    "    for line in open(file):\n",
    "        line = line.strip()\n",
    "         # 空行ならそれまでにつくった文を出力\n",
    "        if len(line) == 0:\n",
    "            res.append((words, tags))\n",
    "            words = []\n",
    "            tags = []\n",
    "        # 単語とタグを取り出す\n",
    "        else:\n",
    "            items = line.split('\\t')\n",
    "            words.append(items[1].lower()) # 小文字にしておく\n",
    "            tags.append(items[3])\n",
    "    return res"
   ]
  },
  {
   "cell_type": "code",
   "execution_count": 4,
   "metadata": {},
   "outputs": [],
   "source": [
    "# 学習データ (training data)\n",
    "train_sents = read_conll('data/train.conll')\n",
    "# 評価用データ (test data)\n",
    "test_sents = read_conll('data/test.conll')\n",
    "# 開発データ (development data)\n",
    "dev_sents = read_conll('data/dev.conll')"
   ]
  },
  {
   "cell_type": "code",
   "execution_count": 5,
   "metadata": {},
   "outputs": [],
   "source": [
    "def get_prefix(word):\n",
    "    word = word.rjust(2, ' ')\n",
    "    return word[:2]\n",
    "\n",
    "def get_suffix(word):\n",
    "    word = word.ljust(2, ' ')\n",
    "    return word[-2:]"
   ]
  },
  {
   "cell_type": "code",
   "execution_count": 6,
   "metadata": {},
   "outputs": [
    {
     "name": "stdout",
     "output_type": "stream",
     "text": [
      "do og\n",
      "is is\n",
      " a a \n"
     ]
    }
   ],
   "source": [
    "# テスト\n",
    "word = 'dog'\n",
    "print(get_prefix(word), get_suffix(word))\n",
    "word = 'is'\n",
    "print(get_prefix(word), get_suffix(word))\n",
    "word = 'a'\n",
    "print(get_prefix(word), get_suffix(word))"
   ]
  },
  {
   "cell_type": "code",
   "execution_count": 7,
   "metadata": {},
   "outputs": [],
   "source": [
    "def sliding_windows(lst):\n",
    "    res = []\n",
    "    for i in range(len(lst) - 6):\n",
    "        res.append(lst[i:i+7])\n",
    "    return res"
   ]
  },
  {
   "cell_type": "code",
   "execution_count": 8,
   "metadata": {},
   "outputs": [],
   "source": [
    "PAD = 'PAD'\n",
    "\n",
    "train_sents = [([PAD] * 3 + words + [PAD] * 3, tags) for words, tags in train_sents]\n",
    "test_sents = [([PAD] * 3 + words + [PAD] * 3, tags) for words, tags in test_sents]\n",
    "dev_sents = [([PAD] * 3 + words + [PAD] * 3, tags) for words, tags in dev_sents]"
   ]
  },
  {
   "cell_type": "code",
   "execution_count": 9,
   "metadata": {},
   "outputs": [],
   "source": [
    "def make_vocab(tokens, max_count=2, UNK='UNK'):\n",
    "    counter = Counter(tokens)\n",
    "    token_list = [token for token, count in counter.most_common() if count >= max_count]\n",
    "    token_list.append(UNK)\n",
    "    token_dict = {t: i for i, t in enumerate(token_list)}\n",
    "    return token_dict"
   ]
  },
  {
   "cell_type": "code",
   "execution_count": 10,
   "metadata": {},
   "outputs": [],
   "source": [
    "UNK = 'UNK'\n",
    "# 単語の埋め込みベクトルがうまくいくためには、その単語がいろいろな文脈で出現してほしい．\n",
    "# 学習データにちょっと(２回より下)しか出ない単語はUNKで置き換える．\n",
    "word_dict = make_vocab(word for words, _ in train_sents for word in words)\n",
    "prefix_dict = make_vocab(get_prefix(word) for words, _ in train_sents for word in words)\n",
    "suffix_dict = make_vocab(get_suffix(word) for words, _ in train_sents for word in words)"
   ]
  },
  {
   "cell_type": "code",
   "execution_count": 11,
   "metadata": {},
   "outputs": [],
   "source": [
    "#POSタグを自然数のIDに変換する辞書\n",
    "tag_set = set(tag for _, tags in train_sents for tag in tags)\n",
    "tag_dict = {w: i for i, w in enumerate(tag_set)}"
   ]
  },
  {
   "cell_type": "code",
   "execution_count": 12,
   "metadata": {},
   "outputs": [
    {
     "name": "stdout",
     "output_type": "stream",
     "text": [
      "word_dict size 21569\n",
      "prefix_dict size 671\n",
      "suffix_dict size 662\n",
      "tag_dict size 17\n"
     ]
    }
   ],
   "source": [
    "print('word_dict size', len(word_dict))\n",
    "print('prefix_dict size', len(prefix_dict))\n",
    "print('suffix_dict size', len(suffix_dict))\n",
    "print('tag_dict size', len(tag_dict))"
   ]
  },
  {
   "cell_type": "code",
   "execution_count": 13,
   "metadata": {},
   "outputs": [],
   "source": [
    "def make_matrices(words_and_tags):\n",
    "    word_xs = []\n",
    "    prefix_xs = []\n",
    "    suffix_xs = []\n",
    "    ys = []\n",
    "    for words, tags in words_and_tags:\n",
    "        for window in sliding_windows(words):\n",
    "            word_xs.append([word_dict.get(word, word_dict[UNK]) for word in window])\n",
    "            prefix_xs.append([prefix_dict.get(get_prefix(word), prefix_dict[UNK]) for word in window])\n",
    "            suffix_xs.append([suffix_dict.get(get_suffix(word), suffix_dict[UNK]) for word in window])\n",
    "        ys.extend(tag_dict[tag] for tag in tags)\n",
    "\n",
    "    word_xs = np.array(word_xs, 'i')\n",
    "    prefix_xs = np.array(prefix_xs, 'i')\n",
    "    suffix_xs = np.array(suffix_xs, 'i')\n",
    "    ys = np.array(ys, 'i')\n",
    "    ys = keras.utils.to_categorical(ys, len(tag_dict))\n",
    "    print('dimensions of xs', word_xs.shape, prefix_xs.shape, suffix_xs.shape)\n",
    "    print('dimensions of ys', ys.shape)\n",
    "    return [word_xs, prefix_xs, suffix_xs], ys"
   ]
  },
  {
   "cell_type": "code",
   "execution_count": 14,
   "metadata": {},
   "outputs": [
    {
     "name": "stdout",
     "output_type": "stream",
     "text": [
      "dimensions of xs (929552, 7) (929552, 7) (929552, 7)\n",
      "dimensions of ys (929552, 17)\n",
      "dimensions of xs (55371, 7) (55371, 7) (55371, 7)\n",
      "dimensions of ys (55371, 17)\n",
      "dimensions of xs (45422, 7) (45422, 7) (45422, 7)\n",
      "dimensions of ys (45422, 17)\n"
     ]
    }
   ],
   "source": [
    "train_xs, train_ys = make_matrices(train_sents)\n",
    "test_xs, test_ys = make_matrices(test_sents)\n",
    "dev_xs, dev_ys = make_matrices(dev_sents)"
   ]
  },
  {
   "cell_type": "code",
   "execution_count": 15,
   "metadata": {},
   "outputs": [],
   "source": [
    "def make_model(word_input, prefix_input, suffix_input, word_vocab_size, prefix_vocab_size, suffix_vocab_size, n_tags,\n",
    "              WORD_EMBED_DIM=128, PREFIX_EMBED_DIM=32, SUFFIX_EMBED_DIM=32, HIDDEN1_DIM=256, HIDDEN2_DIM=128):\n",
    "    word_embed = Embedding(word_vocab_size, WORD_EMBED_DIM)(word_input)\n",
    "    prefix_embed = Embedding(prefix_vocab_size, PREFIX_EMBED_DIM)(prefix_input)\n",
    "    suffix_embed = Embedding(suffix_vocab_size, SUFFIX_EMBED_DIM)(suffix_input)\n",
    "    embed = Concatenate()([word_embed, prefix_embed, suffix_embed])\n",
    "    embed_reshaped = Reshape((-1,))(embed)\n",
    "    hidden1 = Dense(HIDDEN1_DIM, activation='tanh')(embed_reshaped)\n",
    "    hidden2 = Dense(HIDDEN2_DIM, activation='tanh')(hidden1)\n",
    "    logits = Dense(n_tags, activation='softmax')(hidden2)\n",
    "    model = keras.Model(inputs=[word_input, prefix_input, suffix_input], outputs=logits)\n",
    "    return model"
   ]
  },
  {
   "cell_type": "code",
   "execution_count": 16,
   "metadata": {},
   "outputs": [],
   "source": [
    "word_input, prefix_input, suffix_input = Input(shape=(7,)), Input(shape=(7,)), Input(shape=(7,))\n",
    "model = make_model(word_input, prefix_input, suffix_input, len(word_dict), len(prefix_dict), len(suffix_dict), len(tag_dict))"
   ]
  },
  {
   "cell_type": "code",
   "execution_count": 17,
   "metadata": {},
   "outputs": [],
   "source": [
    "keras.utils.plot_model(model, 'images/model.png')"
   ]
  },
  {
   "cell_type": "markdown",
   "metadata": {},
   "source": [
    "単語のID列${\\bf x} = x_{-2}, x_{-1}, x, x_{+1}, x_{+2}$に対して  \n",
    "$Embedding(\\bf x) = [ {\\bf e}_{x_{-2}}　| {\\bf e}_{x_{-1}}　| {\\bf e}_{x}　| {\\bf e}_{x_{+1}}　|　{\\bf e}_{x_{+2}} ]^T　= {\\bf E}^T$,  \n",
    "$ Reshape({\\bf E}) = [ {\\bf e}_{x_{-2}}, {\\bf e}_{x_{-1}}, {\\bf e}_{x}, {\\bf e}_{x_{+1}}, {\\bf e}_{x_{+2}} ]^T = {\\bf e}$ (縦に並べる),  \n",
    "$f({\\bf x}) = {\\mathit softmax}(W_3 \\tanh (W_2 \\tanh (W_1 {\\bf e} + b_1) + b_2) + b_3)$."
   ]
  },
  {
   "cell_type": "markdown",
   "metadata": {},
   "source": [
    "計算グラフの可視化\n",
    "<img src='images/model.png'>"
   ]
  },
  {
   "cell_type": "code",
   "execution_count": 18,
   "metadata": {},
   "outputs": [
    {
     "name": "stdout",
     "output_type": "stream",
     "text": [
      "__________________________________________________________________________________________________\n",
      "Layer (type)                    Output Shape         Param #     Connected to                     \n",
      "==================================================================================================\n",
      "input_1 (InputLayer)            (None, 7)            0                                            \n",
      "__________________________________________________________________________________________________\n",
      "input_2 (InputLayer)            (None, 7)            0                                            \n",
      "__________________________________________________________________________________________________\n",
      "input_3 (InputLayer)            (None, 7)            0                                            \n",
      "__________________________________________________________________________________________________\n",
      "embedding_1 (Embedding)         (None, 7, 128)       2760832     input_1[0][0]                    \n",
      "__________________________________________________________________________________________________\n",
      "embedding_2 (Embedding)         (None, 7, 32)        21472       input_2[0][0]                    \n",
      "__________________________________________________________________________________________________\n",
      "embedding_3 (Embedding)         (None, 7, 32)        21184       input_3[0][0]                    \n",
      "__________________________________________________________________________________________________\n",
      "concatenate_1 (Concatenate)     (None, 7, 192)       0           embedding_1[0][0]                \n",
      "                                                                 embedding_2[0][0]                \n",
      "                                                                 embedding_3[0][0]                \n",
      "__________________________________________________________________________________________________\n",
      "reshape_1 (Reshape)             (None, 1344)         0           concatenate_1[0][0]              \n",
      "__________________________________________________________________________________________________\n",
      "dense_1 (Dense)                 (None, 256)          344320      reshape_1[0][0]                  \n",
      "__________________________________________________________________________________________________\n",
      "dense_2 (Dense)                 (None, 128)          32896       dense_1[0][0]                    \n",
      "__________________________________________________________________________________________________\n",
      "dense_3 (Dense)                 (None, 17)           2193        dense_2[0][0]                    \n",
      "==================================================================================================\n",
      "Total params: 3,182,897\n",
      "Trainable params: 3,182,897\n",
      "Non-trainable params: 0\n",
      "__________________________________________________________________________________________________\n"
     ]
    }
   ],
   "source": [
    "model.summary()"
   ]
  },
  {
   "cell_type": "code",
   "execution_count": 19,
   "metadata": {},
   "outputs": [],
   "source": [
    "model.compile(loss='categorical_crossentropy',\n",
    "              optimizer=SGD(),\n",
    "              metrics=['accuracy'])"
   ]
  },
  {
   "cell_type": "code",
   "execution_count": 20,
   "metadata": {},
   "outputs": [
    {
     "data": {
      "text/plain": [
       "[name: \"/device:CPU:0\"\n",
       " device_type: \"CPU\"\n",
       " memory_limit: 268435456\n",
       " locality {\n",
       " }\n",
       " incarnation: 10640412218949148597, name: \"/device:GPU:0\"\n",
       " device_type: \"GPU\"\n",
       " memory_limit: 4948557824\n",
       " locality {\n",
       "   bus_id: 1\n",
       "   links {\n",
       "     link {\n",
       "       device_id: 1\n",
       "       type: \"StreamExecutor\"\n",
       "       strength: 1\n",
       "     }\n",
       "   }\n",
       " }\n",
       " incarnation: 9034008657637088813\n",
       " physical_device_desc: \"device: 0, name: GeForce GTX TITAN X, pci bus id: 0000:01:00.0, compute capability: 5.2\", name: \"/device:GPU:1\"\n",
       " device_type: \"GPU\"\n",
       " memory_limit: 6340041114\n",
       " locality {\n",
       "   bus_id: 1\n",
       "   links {\n",
       "     link {\n",
       "       type: \"StreamExecutor\"\n",
       "       strength: 1\n",
       "     }\n",
       "   }\n",
       " }\n",
       " incarnation: 17137362309265770243\n",
       " physical_device_desc: \"device: 1, name: GeForce GTX TITAN X, pci bus id: 0000:03:00.0, compute capability: 5.2\"]"
      ]
     },
     "execution_count": 20,
     "metadata": {},
     "output_type": "execute_result"
    }
   ],
   "source": [
    "from tensorflow.python.client import device_lib\n",
    "device_lib.list_local_devices()"
   ]
  },
  {
   "cell_type": "code",
   "execution_count": 21,
   "metadata": {},
   "outputs": [
    {
     "name": "stdout",
     "output_type": "stream",
     "text": [
      "Train on 929552 samples, validate on 45422 samples\n",
      "Epoch 1/200\n",
      "929552/929552 [==============================] - 4s 5us/step - loss: 2.4158 - acc: 0.2463 - val_loss: 2.1362 - val_acc: 0.3775\n",
      "Epoch 2/200\n",
      "929552/929552 [==============================] - 4s 4us/step - loss: 1.8593 - acc: 0.4542 - val_loss: 1.6301 - val_acc: 0.5015\n",
      "Epoch 3/200\n",
      "929552/929552 [==============================] - 4s 4us/step - loss: 1.5141 - acc: 0.5291 - val_loss: 1.3509 - val_acc: 0.5752\n",
      "Epoch 4/200\n",
      "929552/929552 [==============================] - 4s 4us/step - loss: 1.2493 - acc: 0.6036 - val_loss: 1.1023 - val_acc: 0.6495\n",
      "Epoch 5/200\n",
      "929552/929552 [==============================] - 4s 4us/step - loss: 1.0318 - acc: 0.6704 - val_loss: 0.9233 - val_acc: 0.7067\n",
      "Epoch 6/200\n",
      "929552/929552 [==============================] - 4s 4us/step - loss: 0.8712 - acc: 0.7250 - val_loss: 0.7886 - val_acc: 0.7525\n",
      "Epoch 7/200\n",
      "929552/929552 [==============================] - 4s 5us/step - loss: 0.7460 - acc: 0.7663 - val_loss: 0.6844 - val_acc: 0.7860\n",
      "Epoch 8/200\n",
      "929552/929552 [==============================] - 4s 5us/step - loss: 0.6498 - acc: 0.7943 - val_loss: 0.6037 - val_acc: 0.8100\n",
      "Epoch 9/200\n",
      "929552/929552 [==============================] - 4s 5us/step - loss: 0.5750 - acc: 0.8153 - val_loss: 0.5403 - val_acc: 0.8281\n",
      "Epoch 10/200\n",
      "929552/929552 [==============================] - 4s 5us/step - loss: 0.5159 - acc: 0.8329 - val_loss: 0.4898 - val_acc: 0.8430\n",
      "Epoch 11/200\n",
      "929552/929552 [==============================] - 4s 5us/step - loss: 0.4684 - acc: 0.8476 - val_loss: 0.4493 - val_acc: 0.8559\n",
      "Epoch 12/200\n",
      "929552/929552 [==============================] - 4s 5us/step - loss: 0.4297 - acc: 0.8598 - val_loss: 0.4165 - val_acc: 0.8647\n",
      "Epoch 13/200\n",
      "929552/929552 [==============================] - 4s 5us/step - loss: 0.3976 - acc: 0.8696 - val_loss: 0.3891 - val_acc: 0.8740\n",
      "Epoch 14/200\n",
      "929552/929552 [==============================] - 4s 5us/step - loss: 0.3706 - acc: 0.8780 - val_loss: 0.3660 - val_acc: 0.8812\n",
      "Epoch 15/200\n",
      "929552/929552 [==============================] - 4s 5us/step - loss: 0.3476 - acc: 0.8853 - val_loss: 0.3464 - val_acc: 0.8875\n",
      "Epoch 16/200\n",
      "929552/929552 [==============================] - 4s 5us/step - loss: 0.3279 - acc: 0.8914 - val_loss: 0.3296 - val_acc: 0.8928\n",
      "Epoch 17/200\n",
      "929552/929552 [==============================] - 4s 5us/step - loss: 0.3108 - acc: 0.8967 - val_loss: 0.3153 - val_acc: 0.8966\n",
      "Epoch 18/200\n",
      "929552/929552 [==============================] - 4s 5us/step - loss: 0.2960 - acc: 0.9016 - val_loss: 0.3026 - val_acc: 0.9008\n",
      "Epoch 19/200\n",
      "929552/929552 [==============================] - 4s 5us/step - loss: 0.2829 - acc: 0.9059 - val_loss: 0.2916 - val_acc: 0.9041\n",
      "Epoch 20/200\n",
      "929552/929552 [==============================] - 4s 5us/step - loss: 0.2714 - acc: 0.9098 - val_loss: 0.2824 - val_acc: 0.9064\n",
      "Epoch 21/200\n",
      "929552/929552 [==============================] - 4s 4us/step - loss: 0.2611 - acc: 0.9133 - val_loss: 0.2732 - val_acc: 0.9091\n",
      "Epoch 22/200\n",
      "929552/929552 [==============================] - 4s 5us/step - loss: 0.2520 - acc: 0.9165 - val_loss: 0.2655 - val_acc: 0.9120\n",
      "Epoch 23/200\n",
      "929552/929552 [==============================] - 4s 5us/step - loss: 0.2437 - acc: 0.9193 - val_loss: 0.2587 - val_acc: 0.9142\n",
      "Epoch 24/200\n",
      "929552/929552 [==============================] - 4s 5us/step - loss: 0.2363 - acc: 0.9217 - val_loss: 0.2525 - val_acc: 0.9164\n",
      "Epoch 25/200\n",
      "929552/929552 [==============================] - 4s 5us/step - loss: 0.2295 - acc: 0.9240 - val_loss: 0.2466 - val_acc: 0.9188\n",
      "Epoch 26/200\n",
      "929552/929552 [==============================] - 4s 5us/step - loss: 0.2232 - acc: 0.9260 - val_loss: 0.2416 - val_acc: 0.9203\n",
      "Epoch 27/200\n",
      "929552/929552 [==============================] - 4s 5us/step - loss: 0.2175 - acc: 0.9279 - val_loss: 0.2370 - val_acc: 0.9216\n",
      "Epoch 28/200\n",
      "929552/929552 [==============================] - 4s 5us/step - loss: 0.2123 - acc: 0.9297 - val_loss: 0.2323 - val_acc: 0.9234\n",
      "Epoch 29/200\n",
      "929552/929552 [==============================] - 4s 4us/step - loss: 0.2074 - acc: 0.9313 - val_loss: 0.2283 - val_acc: 0.9249\n",
      "Epoch 30/200\n",
      "929552/929552 [==============================] - 4s 4us/step - loss: 0.2028 - acc: 0.9329 - val_loss: 0.2248 - val_acc: 0.9265\n",
      "Epoch 31/200\n",
      "929552/929552 [==============================] - 4s 4us/step - loss: 0.1986 - acc: 0.9343 - val_loss: 0.2206 - val_acc: 0.9280\n",
      "Epoch 32/200\n",
      "929552/929552 [==============================] - 4s 5us/step - loss: 0.1946 - acc: 0.9357 - val_loss: 0.2178 - val_acc: 0.9285\n",
      "Epoch 33/200\n",
      "929552/929552 [==============================] - 4s 5us/step - loss: 0.1909 - acc: 0.9369 - val_loss: 0.2147 - val_acc: 0.9298\n",
      "Epoch 34/200\n",
      "929552/929552 [==============================] - 4s 5us/step - loss: 0.1874 - acc: 0.9381 - val_loss: 0.2118 - val_acc: 0.9306\n",
      "Epoch 35/200\n",
      "929552/929552 [==============================] - 4s 5us/step - loss: 0.1841 - acc: 0.9392 - val_loss: 0.2094 - val_acc: 0.9314\n",
      "Epoch 36/200\n",
      "929552/929552 [==============================] - 4s 5us/step - loss: 0.1810 - acc: 0.9403 - val_loss: 0.2064 - val_acc: 0.9327\n",
      "Epoch 37/200\n",
      "929552/929552 [==============================] - 4s 5us/step - loss: 0.1780 - acc: 0.9412 - val_loss: 0.2044 - val_acc: 0.9334\n",
      "Epoch 38/200\n",
      "929552/929552 [==============================] - 4s 5us/step - loss: 0.1752 - acc: 0.9423 - val_loss: 0.2018 - val_acc: 0.9340\n",
      "Epoch 39/200\n",
      "929552/929552 [==============================] - 4s 5us/step - loss: 0.1725 - acc: 0.9432 - val_loss: 0.2002 - val_acc: 0.9346\n",
      "Epoch 40/200\n",
      "929552/929552 [==============================] - 4s 5us/step - loss: 0.1700 - acc: 0.9441 - val_loss: 0.1982 - val_acc: 0.9354\n",
      "Epoch 41/200\n",
      "929552/929552 [==============================] - 4s 5us/step - loss: 0.1675 - acc: 0.9449 - val_loss: 0.1960 - val_acc: 0.9363\n",
      "Epoch 42/200\n",
      "929552/929552 [==============================] - 4s 5us/step - loss: 0.1652 - acc: 0.9456 - val_loss: 0.1940 - val_acc: 0.9368\n",
      "Epoch 43/200\n",
      "929552/929552 [==============================] - 4s 5us/step - loss: 0.1630 - acc: 0.9463 - val_loss: 0.1927 - val_acc: 0.9375\n",
      "Epoch 44/200\n",
      "929552/929552 [==============================] - 4s 5us/step - loss: 0.1609 - acc: 0.9471 - val_loss: 0.1909 - val_acc: 0.9380\n",
      "Epoch 45/200\n",
      "929552/929552 [==============================] - 4s 5us/step - loss: 0.1588 - acc: 0.9478 - val_loss: 0.1896 - val_acc: 0.9385\n",
      "Epoch 46/200\n",
      "929552/929552 [==============================] - 4s 5us/step - loss: 0.1569 - acc: 0.9484 - val_loss: 0.1880 - val_acc: 0.9392\n",
      "Epoch 47/200\n",
      "929552/929552 [==============================] - 4s 5us/step - loss: 0.1550 - acc: 0.9491 - val_loss: 0.1867 - val_acc: 0.9398\n",
      "Epoch 48/200\n",
      "929552/929552 [==============================] - 4s 5us/step - loss: 0.1532 - acc: 0.9497 - val_loss: 0.1850 - val_acc: 0.9402\n",
      "Epoch 49/200\n",
      "929552/929552 [==============================] - 4s 5us/step - loss: 0.1514 - acc: 0.9504 - val_loss: 0.1839 - val_acc: 0.9403\n",
      "Epoch 50/200\n",
      "929552/929552 [==============================] - 4s 5us/step - loss: 0.1498 - acc: 0.9509 - val_loss: 0.1835 - val_acc: 0.9405\n",
      "Epoch 51/200\n",
      "929552/929552 [==============================] - 4s 5us/step - loss: 0.1481 - acc: 0.9515 - val_loss: 0.1816 - val_acc: 0.9414\n",
      "Epoch 52/200\n",
      "929552/929552 [==============================] - 4s 5us/step - loss: 0.1466 - acc: 0.9518 - val_loss: 0.1803 - val_acc: 0.9422\n",
      "Epoch 53/200\n",
      "929552/929552 [==============================] - 4s 5us/step - loss: 0.1450 - acc: 0.9524 - val_loss: 0.1793 - val_acc: 0.9422\n",
      "Epoch 54/200\n",
      "929552/929552 [==============================] - 4s 4us/step - loss: 0.1436 - acc: 0.9528 - val_loss: 0.1786 - val_acc: 0.9427\n",
      "Epoch 55/200\n",
      "929552/929552 [==============================] - 4s 4us/step - loss: 0.1422 - acc: 0.9534 - val_loss: 0.1774 - val_acc: 0.9432\n",
      "Epoch 56/200\n",
      "929552/929552 [==============================] - 4s 4us/step - loss: 0.1408 - acc: 0.9538 - val_loss: 0.1761 - val_acc: 0.9433\n",
      "Epoch 57/200\n",
      "929552/929552 [==============================] - 4s 4us/step - loss: 0.1394 - acc: 0.9542 - val_loss: 0.1761 - val_acc: 0.9433\n",
      "Epoch 58/200\n",
      "929552/929552 [==============================] - 4s 5us/step - loss: 0.1381 - acc: 0.9547 - val_loss: 0.1743 - val_acc: 0.9441\n",
      "Epoch 59/200\n"
     ]
    },
    {
     "name": "stdout",
     "output_type": "stream",
     "text": [
      "929552/929552 [==============================] - 4s 5us/step - loss: 0.1369 - acc: 0.9551 - val_loss: 0.1737 - val_acc: 0.9444\n",
      "Epoch 60/200\n",
      "929552/929552 [==============================] - 4s 5us/step - loss: 0.1357 - acc: 0.9555 - val_loss: 0.1732 - val_acc: 0.9447\n",
      "Epoch 61/200\n",
      "929552/929552 [==============================] - 4s 5us/step - loss: 0.1345 - acc: 0.9559 - val_loss: 0.1732 - val_acc: 0.9448\n",
      "Epoch 62/200\n",
      "929552/929552 [==============================] - 4s 5us/step - loss: 0.1333 - acc: 0.9564 - val_loss: 0.1719 - val_acc: 0.9450\n",
      "Epoch 63/200\n",
      "929552/929552 [==============================] - 4s 5us/step - loss: 0.1322 - acc: 0.9567 - val_loss: 0.1705 - val_acc: 0.9456\n",
      "Epoch 64/200\n",
      "929552/929552 [==============================] - 4s 5us/step - loss: 0.1311 - acc: 0.9571 - val_loss: 0.1705 - val_acc: 0.9458\n",
      "Epoch 65/200\n",
      "929552/929552 [==============================] - 4s 5us/step - loss: 0.1300 - acc: 0.9574 - val_loss: 0.1695 - val_acc: 0.9462\n",
      "Epoch 66/200\n",
      "929552/929552 [==============================] - 4s 5us/step - loss: 0.1290 - acc: 0.9578 - val_loss: 0.1686 - val_acc: 0.9467\n",
      "Epoch 67/200\n",
      "929552/929552 [==============================] - 4s 5us/step - loss: 0.1280 - acc: 0.9582 - val_loss: 0.1687 - val_acc: 0.9466\n",
      "Epoch 68/200\n",
      "929552/929552 [==============================] - 4s 5us/step - loss: 0.1270 - acc: 0.9585 - val_loss: 0.1671 - val_acc: 0.9474\n",
      "Epoch 69/200\n",
      "929552/929552 [==============================] - 4s 5us/step - loss: 0.1260 - acc: 0.9589 - val_loss: 0.1670 - val_acc: 0.9476\n",
      "Epoch 70/200\n",
      "929552/929552 [==============================] - 4s 5us/step - loss: 0.1251 - acc: 0.9591 - val_loss: 0.1665 - val_acc: 0.9480\n",
      "Epoch 71/200\n",
      "929552/929552 [==============================] - 4s 5us/step - loss: 0.1242 - acc: 0.9595 - val_loss: 0.1666 - val_acc: 0.9477\n",
      "Epoch 72/200\n",
      "929552/929552 [==============================] - 4s 5us/step - loss: 0.1233 - acc: 0.9597 - val_loss: 0.1652 - val_acc: 0.9484\n",
      "Epoch 73/200\n",
      "929552/929552 [==============================] - 4s 5us/step - loss: 0.1224 - acc: 0.9600 - val_loss: 0.1649 - val_acc: 0.9482\n",
      "Epoch 74/200\n",
      "929552/929552 [==============================] - 4s 5us/step - loss: 0.1216 - acc: 0.9604 - val_loss: 0.1642 - val_acc: 0.9486\n",
      "Epoch 75/200\n",
      "929552/929552 [==============================] - 4s 5us/step - loss: 0.1207 - acc: 0.9606 - val_loss: 0.1642 - val_acc: 0.9486\n",
      "Epoch 76/200\n",
      "929552/929552 [==============================] - 4s 5us/step - loss: 0.1199 - acc: 0.9609 - val_loss: 0.1637 - val_acc: 0.9485\n",
      "Epoch 77/200\n",
      "929552/929552 [==============================] - 4s 5us/step - loss: 0.1191 - acc: 0.9612 - val_loss: 0.1638 - val_acc: 0.9487\n",
      "Epoch 78/200\n",
      "929552/929552 [==============================] - 4s 5us/step - loss: 0.1183 - acc: 0.9615 - val_loss: 0.1633 - val_acc: 0.9489\n",
      "Epoch 79/200\n",
      "929552/929552 [==============================] - 4s 4us/step - loss: 0.1176 - acc: 0.9617 - val_loss: 0.1626 - val_acc: 0.9491\n",
      "Epoch 80/200\n",
      "929552/929552 [==============================] - 4s 4us/step - loss: 0.1169 - acc: 0.9620 - val_loss: 0.1623 - val_acc: 0.9489\n",
      "Epoch 81/200\n",
      "929552/929552 [==============================] - 4s 4us/step - loss: 0.1161 - acc: 0.9622 - val_loss: 0.1618 - val_acc: 0.9494\n",
      "Epoch 82/200\n",
      "929552/929552 [==============================] - 4s 5us/step - loss: 0.1154 - acc: 0.9625 - val_loss: 0.1610 - val_acc: 0.9499\n",
      "Epoch 83/200\n",
      "929552/929552 [==============================] - 4s 5us/step - loss: 0.1147 - acc: 0.9627 - val_loss: 0.1605 - val_acc: 0.9501\n",
      "Epoch 84/200\n",
      "929552/929552 [==============================] - 4s 5us/step - loss: 0.1140 - acc: 0.9629 - val_loss: 0.1605 - val_acc: 0.9500\n",
      "Epoch 85/200\n",
      "929552/929552 [==============================] - 4s 5us/step - loss: 0.1133 - acc: 0.9632 - val_loss: 0.1605 - val_acc: 0.9499\n",
      "Epoch 86/200\n",
      "929552/929552 [==============================] - 4s 5us/step - loss: 0.1127 - acc: 0.9634 - val_loss: 0.1596 - val_acc: 0.9504\n",
      "Epoch 87/200\n",
      "929552/929552 [==============================] - 4s 5us/step - loss: 0.1120 - acc: 0.9636 - val_loss: 0.1595 - val_acc: 0.9503\n",
      "Epoch 88/200\n",
      "929552/929552 [==============================] - 4s 5us/step - loss: 0.1114 - acc: 0.9638 - val_loss: 0.1588 - val_acc: 0.9507\n",
      "Epoch 89/200\n",
      "929552/929552 [==============================] - 4s 5us/step - loss: 0.1108 - acc: 0.9641 - val_loss: 0.1590 - val_acc: 0.9503\n",
      "Epoch 90/200\n",
      "929552/929552 [==============================] - 4s 5us/step - loss: 0.1101 - acc: 0.9643 - val_loss: 0.1593 - val_acc: 0.9501\n",
      "Epoch 91/200\n",
      "929552/929552 [==============================] - 4s 5us/step - loss: 0.1096 - acc: 0.9644 - val_loss: 0.1588 - val_acc: 0.9508\n",
      "Epoch 92/200\n",
      "929552/929552 [==============================] - 4s 5us/step - loss: 0.1090 - acc: 0.9647 - val_loss: 0.1584 - val_acc: 0.9509\n",
      "Epoch 93/200\n",
      "929552/929552 [==============================] - 4s 5us/step - loss: 0.1084 - acc: 0.9648 - val_loss: 0.1575 - val_acc: 0.9516\n",
      "Epoch 94/200\n",
      "929552/929552 [==============================] - 4s 5us/step - loss: 0.1078 - acc: 0.9651 - val_loss: 0.1577 - val_acc: 0.9511\n",
      "Epoch 95/200\n",
      "929552/929552 [==============================] - 4s 5us/step - loss: 0.1072 - acc: 0.9652 - val_loss: 0.1578 - val_acc: 0.9509\n",
      "Epoch 96/200\n",
      "929552/929552 [==============================] - 4s 5us/step - loss: 0.1067 - acc: 0.9654 - val_loss: 0.1573 - val_acc: 0.9512\n",
      "Epoch 97/200\n",
      "929552/929552 [==============================] - 4s 5us/step - loss: 0.1062 - acc: 0.9656 - val_loss: 0.1572 - val_acc: 0.9515\n",
      "Epoch 98/200\n",
      "929552/929552 [==============================] - 4s 5us/step - loss: 0.1056 - acc: 0.9658 - val_loss: 0.1562 - val_acc: 0.9518\n",
      "Epoch 99/200\n",
      "929552/929552 [==============================] - 4s 5us/step - loss: 0.1051 - acc: 0.9659 - val_loss: 0.1565 - val_acc: 0.9513\n",
      "Epoch 100/200\n",
      "929552/929552 [==============================] - 4s 5us/step - loss: 0.1046 - acc: 0.9661 - val_loss: 0.1563 - val_acc: 0.9516\n",
      "Epoch 101/200\n",
      "929552/929552 [==============================] - 4s 5us/step - loss: 0.1041 - acc: 0.9663 - val_loss: 0.1569 - val_acc: 0.9515\n",
      "Epoch 102/200\n",
      "929552/929552 [==============================] - 4s 4us/step - loss: 0.1036 - acc: 0.9665 - val_loss: 0.1556 - val_acc: 0.9520\n",
      "Epoch 103/200\n",
      "929552/929552 [==============================] - 4s 5us/step - loss: 0.1031 - acc: 0.9665 - val_loss: 0.1561 - val_acc: 0.9517\n",
      "Epoch 104/200\n",
      "929552/929552 [==============================] - 4s 4us/step - loss: 0.1026 - acc: 0.9668 - val_loss: 0.1554 - val_acc: 0.9523\n",
      "Epoch 105/200\n",
      "929552/929552 [==============================] - 4s 4us/step - loss: 0.1021 - acc: 0.9668 - val_loss: 0.1557 - val_acc: 0.9524\n",
      "Epoch 106/200\n",
      "929552/929552 [==============================] - 4s 4us/step - loss: 0.1017 - acc: 0.9670 - val_loss: 0.1555 - val_acc: 0.9523\n",
      "Epoch 107/200\n",
      "929552/929552 [==============================] - 4s 5us/step - loss: 0.1012 - acc: 0.9672 - val_loss: 0.1553 - val_acc: 0.9525\n",
      "Epoch 108/200\n",
      "929552/929552 [==============================] - 4s 5us/step - loss: 0.1007 - acc: 0.9674 - val_loss: 0.1551 - val_acc: 0.9525\n",
      "Epoch 109/200\n",
      "929552/929552 [==============================] - 4s 5us/step - loss: 0.1003 - acc: 0.9675 - val_loss: 0.1552 - val_acc: 0.9526\n",
      "Epoch 110/200\n",
      "929552/929552 [==============================] - 4s 5us/step - loss: 0.0998 - acc: 0.9676 - val_loss: 0.1548 - val_acc: 0.9526\n",
      "Epoch 111/200\n",
      "929552/929552 [==============================] - 4s 5us/step - loss: 0.0994 - acc: 0.9678 - val_loss: 0.1549 - val_acc: 0.9526\n",
      "Epoch 112/200\n",
      "929552/929552 [==============================] - 4s 5us/step - loss: 0.0990 - acc: 0.9679 - val_loss: 0.1545 - val_acc: 0.9529\n",
      "Epoch 113/200\n",
      "929552/929552 [==============================] - 4s 5us/step - loss: 0.0986 - acc: 0.9681 - val_loss: 0.1543 - val_acc: 0.9529\n",
      "Epoch 114/200\n",
      "929552/929552 [==============================] - 4s 5us/step - loss: 0.0981 - acc: 0.9681 - val_loss: 0.1542 - val_acc: 0.9528\n",
      "Epoch 115/200\n",
      "929552/929552 [==============================] - 4s 5us/step - loss: 0.0977 - acc: 0.9683 - val_loss: 0.1548 - val_acc: 0.9529\n",
      "Epoch 116/200\n",
      "929552/929552 [==============================] - 4s 5us/step - loss: 0.0973 - acc: 0.9685 - val_loss: 0.1540 - val_acc: 0.9531\n",
      "Epoch 117/200\n"
     ]
    },
    {
     "name": "stdout",
     "output_type": "stream",
     "text": [
      "929552/929552 [==============================] - 4s 5us/step - loss: 0.0969 - acc: 0.9685 - val_loss: 0.1547 - val_acc: 0.9529\n",
      "Epoch 118/200\n",
      "929552/929552 [==============================] - 4s 5us/step - loss: 0.0965 - acc: 0.9687 - val_loss: 0.1542 - val_acc: 0.9532\n",
      "Epoch 119/200\n",
      "929552/929552 [==============================] - 4s 5us/step - loss: 0.0961 - acc: 0.9688 - val_loss: 0.1538 - val_acc: 0.9532\n",
      "Epoch 120/200\n",
      "929552/929552 [==============================] - 4s 5us/step - loss: 0.0957 - acc: 0.9689 - val_loss: 0.1532 - val_acc: 0.9533\n",
      "Epoch 121/200\n",
      "929552/929552 [==============================] - 4s 5us/step - loss: 0.0953 - acc: 0.9691 - val_loss: 0.1535 - val_acc: 0.9533\n",
      "Epoch 122/200\n",
      "929552/929552 [==============================] - 4s 5us/step - loss: 0.0950 - acc: 0.9691 - val_loss: 0.1552 - val_acc: 0.9525\n",
      "Epoch 123/200\n",
      "929552/929552 [==============================] - 4s 5us/step - loss: 0.0946 - acc: 0.9693 - val_loss: 0.1538 - val_acc: 0.9531\n",
      "Epoch 124/200\n",
      "929552/929552 [==============================] - 4s 5us/step - loss: 0.0942 - acc: 0.9694 - val_loss: 0.1544 - val_acc: 0.9532\n",
      "Epoch 125/200\n",
      "929552/929552 [==============================] - 4s 5us/step - loss: 0.0939 - acc: 0.9695 - val_loss: 0.1537 - val_acc: 0.9532\n",
      "Epoch 126/200\n",
      "929552/929552 [==============================] - 4s 5us/step - loss: 0.0935 - acc: 0.9697 - val_loss: 0.1545 - val_acc: 0.9533\n",
      "Epoch 127/200\n",
      "929552/929552 [==============================] - 4s 5us/step - loss: 0.0931 - acc: 0.9698 - val_loss: 0.1534 - val_acc: 0.9531\n",
      "Epoch 128/200\n",
      "929552/929552 [==============================] - 4s 5us/step - loss: 0.0928 - acc: 0.9699 - val_loss: 0.1530 - val_acc: 0.9535\n",
      "Epoch 129/200\n",
      "929552/929552 [==============================] - 4s 4us/step - loss: 0.0924 - acc: 0.9700 - val_loss: 0.1536 - val_acc: 0.9534\n",
      "Epoch 130/200\n",
      "929552/929552 [==============================] - 4s 4us/step - loss: 0.0921 - acc: 0.9701 - val_loss: 0.1531 - val_acc: 0.9533\n",
      "Epoch 131/200\n",
      "929552/929552 [==============================] - 4s 4us/step - loss: 0.0917 - acc: 0.9702 - val_loss: 0.1539 - val_acc: 0.9535\n",
      "Epoch 132/200\n",
      "929552/929552 [==============================] - 4s 5us/step - loss: 0.0914 - acc: 0.9703 - val_loss: 0.1536 - val_acc: 0.9538\n",
      "Epoch 133/200\n",
      "929552/929552 [==============================] - 4s 5us/step - loss: 0.0911 - acc: 0.9704 - val_loss: 0.1530 - val_acc: 0.9536\n",
      "Epoch 134/200\n",
      "929552/929552 [==============================] - 4s 5us/step - loss: 0.0907 - acc: 0.9705 - val_loss: 0.1529 - val_acc: 0.9534\n",
      "Epoch 135/200\n",
      "929552/929552 [==============================] - 4s 5us/step - loss: 0.0904 - acc: 0.9706 - val_loss: 0.1525 - val_acc: 0.9537\n",
      "Epoch 136/200\n",
      "929552/929552 [==============================] - 4s 5us/step - loss: 0.0901 - acc: 0.9707 - val_loss: 0.1532 - val_acc: 0.9541\n",
      "Epoch 137/200\n",
      "929552/929552 [==============================] - 4s 5us/step - loss: 0.0897 - acc: 0.9708 - val_loss: 0.1532 - val_acc: 0.9537\n",
      "Epoch 138/200\n",
      "929552/929552 [==============================] - 4s 5us/step - loss: 0.0894 - acc: 0.9709 - val_loss: 0.1532 - val_acc: 0.9535\n",
      "Epoch 139/200\n",
      "929552/929552 [==============================] - 4s 5us/step - loss: 0.0891 - acc: 0.9710 - val_loss: 0.1528 - val_acc: 0.9536\n",
      "Epoch 140/200\n",
      "929552/929552 [==============================] - 4s 5us/step - loss: 0.0888 - acc: 0.9711 - val_loss: 0.1529 - val_acc: 0.9537\n",
      "Epoch 141/200\n",
      "929552/929552 [==============================] - 4s 5us/step - loss: 0.0885 - acc: 0.9711 - val_loss: 0.1539 - val_acc: 0.9537\n",
      "Epoch 142/200\n",
      "929552/929552 [==============================] - 4s 5us/step - loss: 0.0881 - acc: 0.9712 - val_loss: 0.1524 - val_acc: 0.9537\n",
      "Epoch 143/200\n",
      "929552/929552 [==============================] - 4s 5us/step - loss: 0.0878 - acc: 0.9714 - val_loss: 0.1530 - val_acc: 0.9538\n",
      "Epoch 144/200\n",
      "929552/929552 [==============================] - 4s 5us/step - loss: 0.0875 - acc: 0.9714 - val_loss: 0.1532 - val_acc: 0.9539\n",
      "Epoch 145/200\n",
      "929552/929552 [==============================] - 4s 5us/step - loss: 0.0872 - acc: 0.9715 - val_loss: 0.1531 - val_acc: 0.9538\n",
      "Epoch 146/200\n",
      "929552/929552 [==============================] - 4s 5us/step - loss: 0.0869 - acc: 0.9716 - val_loss: 0.1527 - val_acc: 0.9538\n",
      "Epoch 147/200\n",
      "929552/929552 [==============================] - 4s 5us/step - loss: 0.0866 - acc: 0.9717 - val_loss: 0.1527 - val_acc: 0.9541\n",
      "Epoch 148/200\n",
      "929552/929552 [==============================] - 4s 5us/step - loss: 0.0864 - acc: 0.9718 - val_loss: 0.1524 - val_acc: 0.9540\n",
      "Epoch 149/200\n",
      "929552/929552 [==============================] - 4s 5us/step - loss: 0.0861 - acc: 0.9719 - val_loss: 0.1541 - val_acc: 0.9537\n",
      "Epoch 150/200\n",
      "929552/929552 [==============================] - 4s 5us/step - loss: 0.0858 - acc: 0.9719 - val_loss: 0.1528 - val_acc: 0.9541\n",
      "Epoch 151/200\n",
      "929552/929552 [==============================] - 4s 5us/step - loss: 0.0855 - acc: 0.9721 - val_loss: 0.1535 - val_acc: 0.9540\n",
      "Epoch 152/200\n",
      "929552/929552 [==============================] - 4s 5us/step - loss: 0.0852 - acc: 0.9722 - val_loss: 0.1539 - val_acc: 0.9540\n",
      "Epoch 153/200\n",
      "929552/929552 [==============================] - 4s 5us/step - loss: 0.0849 - acc: 0.9723 - val_loss: 0.1541 - val_acc: 0.9540\n",
      "Epoch 154/200\n",
      "929552/929552 [==============================] - 4s 4us/step - loss: 0.0846 - acc: 0.9723 - val_loss: 0.1531 - val_acc: 0.9541\n",
      "Epoch 155/200\n",
      "929552/929552 [==============================] - 4s 4us/step - loss: 0.0844 - acc: 0.9724 - val_loss: 0.1542 - val_acc: 0.9537\n",
      "Epoch 156/200\n",
      "929552/929552 [==============================] - 4s 4us/step - loss: 0.0841 - acc: 0.9726 - val_loss: 0.1531 - val_acc: 0.9541\n",
      "Epoch 157/200\n",
      "929552/929552 [==============================] - 4s 4us/step - loss: 0.0838 - acc: 0.9726 - val_loss: 0.1534 - val_acc: 0.9542\n",
      "Epoch 158/200\n",
      "929552/929552 [==============================] - 4s 5us/step - loss: 0.0835 - acc: 0.9728 - val_loss: 0.1535 - val_acc: 0.9541\n",
      "Epoch 159/200\n",
      "929552/929552 [==============================] - 4s 5us/step - loss: 0.0833 - acc: 0.9727 - val_loss: 0.1533 - val_acc: 0.9539\n",
      "Epoch 160/200\n",
      "929552/929552 [==============================] - 4s 5us/step - loss: 0.0830 - acc: 0.9729 - val_loss: 0.1530 - val_acc: 0.9540\n",
      "Epoch 161/200\n",
      "929552/929552 [==============================] - 4s 5us/step - loss: 0.0827 - acc: 0.9730 - val_loss: 0.1530 - val_acc: 0.9539\n",
      "Epoch 162/200\n",
      "929552/929552 [==============================] - 4s 5us/step - loss: 0.0825 - acc: 0.9731 - val_loss: 0.1539 - val_acc: 0.9538\n",
      "Epoch 163/200\n",
      "929552/929552 [==============================] - 4s 5us/step - loss: 0.0822 - acc: 0.9731 - val_loss: 0.1537 - val_acc: 0.9539\n",
      "Epoch 164/200\n",
      "929552/929552 [==============================] - 4s 5us/step - loss: 0.0819 - acc: 0.9732 - val_loss: 0.1543 - val_acc: 0.9538\n",
      "Epoch 165/200\n",
      "929552/929552 [==============================] - 4s 5us/step - loss: 0.0817 - acc: 0.9733 - val_loss: 0.1529 - val_acc: 0.9540\n",
      "Epoch 166/200\n",
      "929552/929552 [==============================] - 4s 5us/step - loss: 0.0814 - acc: 0.9734 - val_loss: 0.1546 - val_acc: 0.9536\n",
      "Epoch 167/200\n",
      "929552/929552 [==============================] - 4s 5us/step - loss: 0.0812 - acc: 0.9735 - val_loss: 0.1541 - val_acc: 0.9539\n",
      "Epoch 168/200\n",
      "929552/929552 [==============================] - 4s 5us/step - loss: 0.0809 - acc: 0.9736 - val_loss: 0.1536 - val_acc: 0.9540\n",
      "Epoch 169/200\n",
      "929552/929552 [==============================] - 4s 5us/step - loss: 0.0807 - acc: 0.9736 - val_loss: 0.1540 - val_acc: 0.9540\n",
      "Epoch 170/200\n",
      "929552/929552 [==============================] - 4s 5us/step - loss: 0.0804 - acc: 0.9737 - val_loss: 0.1541 - val_acc: 0.9540\n",
      "Epoch 171/200\n",
      "929552/929552 [==============================] - 4s 5us/step - loss: 0.0801 - acc: 0.9737 - val_loss: 0.1542 - val_acc: 0.9540\n",
      "Epoch 172/200\n",
      "929552/929552 [==============================] - 4s 5us/step - loss: 0.0799 - acc: 0.9738 - val_loss: 0.1538 - val_acc: 0.9545\n",
      "Epoch 173/200\n",
      "929552/929552 [==============================] - 4s 5us/step - loss: 0.0797 - acc: 0.9739 - val_loss: 0.1544 - val_acc: 0.9537\n",
      "Epoch 174/200\n",
      "929552/929552 [==============================] - 4s 5us/step - loss: 0.0794 - acc: 0.9740 - val_loss: 0.1546 - val_acc: 0.9542\n",
      "Epoch 175/200\n"
     ]
    },
    {
     "name": "stdout",
     "output_type": "stream",
     "text": [
      "929552/929552 [==============================] - 4s 5us/step - loss: 0.0792 - acc: 0.9740 - val_loss: 0.1545 - val_acc: 0.9542\n",
      "Epoch 176/200\n",
      "929552/929552 [==============================] - 4s 5us/step - loss: 0.0789 - acc: 0.9743 - val_loss: 0.1540 - val_acc: 0.9540\n",
      "Epoch 177/200\n",
      "929552/929552 [==============================] - 4s 5us/step - loss: 0.0787 - acc: 0.9743 - val_loss: 0.1544 - val_acc: 0.9537\n",
      "Epoch 178/200\n",
      "929552/929552 [==============================] - 4s 5us/step - loss: 0.0784 - acc: 0.9744 - val_loss: 0.1547 - val_acc: 0.9541\n",
      "Epoch 179/200\n",
      "929552/929552 [==============================] - 4s 4us/step - loss: 0.0782 - acc: 0.9744 - val_loss: 0.1551 - val_acc: 0.9541\n",
      "Epoch 180/200\n",
      "929552/929552 [==============================] - 4s 4us/step - loss: 0.0780 - acc: 0.9745 - val_loss: 0.1541 - val_acc: 0.9541\n",
      "Epoch 181/200\n",
      "929552/929552 [==============================] - 4s 4us/step - loss: 0.0777 - acc: 0.9745 - val_loss: 0.1548 - val_acc: 0.9540\n",
      "Epoch 182/200\n",
      "929552/929552 [==============================] - 4s 5us/step - loss: 0.0775 - acc: 0.9747 - val_loss: 0.1554 - val_acc: 0.9542\n",
      "Epoch 183/200\n",
      "929552/929552 [==============================] - 4s 5us/step - loss: 0.0772 - acc: 0.9747 - val_loss: 0.1545 - val_acc: 0.9539\n",
      "Epoch 184/200\n",
      "929552/929552 [==============================] - 4s 5us/step - loss: 0.0770 - acc: 0.9748 - val_loss: 0.1552 - val_acc: 0.9539\n",
      "Epoch 185/200\n",
      "929552/929552 [==============================] - 4s 5us/step - loss: 0.0768 - acc: 0.9748 - val_loss: 0.1541 - val_acc: 0.9544\n",
      "Epoch 186/200\n",
      "929552/929552 [==============================] - 4s 4us/step - loss: 0.0766 - acc: 0.9749 - val_loss: 0.1557 - val_acc: 0.9541\n",
      "Epoch 187/200\n",
      "929552/929552 [==============================] - 4s 5us/step - loss: 0.0763 - acc: 0.9750 - val_loss: 0.1545 - val_acc: 0.9544\n",
      "Epoch 188/200\n",
      "929552/929552 [==============================] - 4s 5us/step - loss: 0.0761 - acc: 0.9751 - val_loss: 0.1554 - val_acc: 0.9543\n",
      "Epoch 189/200\n",
      "929552/929552 [==============================] - 4s 5us/step - loss: 0.0759 - acc: 0.9751 - val_loss: 0.1556 - val_acc: 0.9544\n",
      "Epoch 190/200\n",
      "929552/929552 [==============================] - 4s 5us/step - loss: 0.0756 - acc: 0.9752 - val_loss: 0.1549 - val_acc: 0.9541\n",
      "Epoch 191/200\n",
      "929552/929552 [==============================] - 4s 5us/step - loss: 0.0754 - acc: 0.9753 - val_loss: 0.1559 - val_acc: 0.9541\n",
      "Epoch 192/200\n",
      "929552/929552 [==============================] - 4s 5us/step - loss: 0.0752 - acc: 0.9754 - val_loss: 0.1564 - val_acc: 0.9542\n",
      "Epoch 193/200\n",
      "929552/929552 [==============================] - 4s 5us/step - loss: 0.0750 - acc: 0.9754 - val_loss: 0.1550 - val_acc: 0.9546\n",
      "Epoch 194/200\n",
      "929552/929552 [==============================] - 4s 5us/step - loss: 0.0748 - acc: 0.9755 - val_loss: 0.1557 - val_acc: 0.9544\n",
      "Epoch 195/200\n",
      "929552/929552 [==============================] - 4s 5us/step - loss: 0.0745 - acc: 0.9756 - val_loss: 0.1561 - val_acc: 0.9538\n",
      "Epoch 196/200\n",
      "929552/929552 [==============================] - 4s 5us/step - loss: 0.0743 - acc: 0.9757 - val_loss: 0.1555 - val_acc: 0.9544\n",
      "Epoch 197/200\n",
      "929552/929552 [==============================] - 4s 5us/step - loss: 0.0741 - acc: 0.9758 - val_loss: 0.1568 - val_acc: 0.9542\n",
      "Epoch 198/200\n",
      "929552/929552 [==============================] - 4s 5us/step - loss: 0.0739 - acc: 0.9758 - val_loss: 0.1562 - val_acc: 0.9541\n",
      "Epoch 199/200\n",
      "929552/929552 [==============================] - 4s 5us/step - loss: 0.0736 - acc: 0.9760 - val_loss: 0.1563 - val_acc: 0.9542\n",
      "Epoch 200/200\n",
      "929552/929552 [==============================] - 4s 5us/step - loss: 0.0734 - acc: 0.9760 - val_loss: 0.1558 - val_acc: 0.9539\n"
     ]
    },
    {
     "data": {
      "text/plain": [
       "<keras.callbacks.History at 0x7f8a240730b8>"
      ]
     },
     "execution_count": 21,
     "metadata": {},
     "output_type": "execute_result"
    }
   ],
   "source": [
    "# 学習\n",
    "model.fit(train_xs, train_ys, batch_size=1024, epochs=200, verbose=1, validation_data=(dev_xs, dev_ys))\n",
    "\n",
    "# 学習がめんどい場合こっち (学習済みのパラメータを読み込み)\n",
    "# model.load_weights('models/weights.h5')"
   ]
  },
  {
   "cell_type": "code",
   "execution_count": 25,
   "metadata": {},
   "outputs": [
    {
     "name": "stdout",
     "output_type": "stream",
     "text": [
      "55371/55371 [==============================] - 1s 25us/step\n"
     ]
    },
    {
     "data": {
      "text/plain": [
       "[0.12383607329298456, 0.9590218706543137]"
      ]
     },
     "execution_count": 25,
     "metadata": {},
     "output_type": "execute_result"
    }
   ],
   "source": [
    "# 学習したモデルを適当に使ってみるとなんか行列が出てきます\n",
    "model.evaluate(test_xs, test_ys)"
   ]
  },
  {
   "cell_type": "code",
   "execution_count": 26,
   "metadata": {},
   "outputs": [],
   "source": [
    "# POSタグとIDの逆向きの辞書\n",
    "rev_tag_dict = {v: k for k, v in tag_dict.items()}"
   ]
  },
  {
   "cell_type": "code",
   "execution_count": 50,
   "metadata": {},
   "outputs": [],
   "source": [
    "# 単語リストを入力してPOSタグを予測する関数\n",
    "def predict(words):\n",
    "    word_ids = []\n",
    "    prefix_ids = []\n",
    "    suffix_ids = []\n",
    "    for window in sliding_windows([PAD] * 3 + words + [PAD] * 3):\n",
    "        word_ids.append([word_dict.get(word, word_dict[UNK]) for word in window])\n",
    "        prefix_ids.append([prefix_dict.get(get_prefix(word), prefix_dict[UNK]) for word in window])\n",
    "        suffix_ids.append([suffix_dict.get(get_suffix(word), suffix_dict[UNK]) for word in window])\n",
    "    matrix = [np.array(word_ids, 'i'), np.array(suffix_ids, 'i'), np.array(suffix_ids, 'i')]\n",
    "    probabilities = model.predict(matrix)\n",
    "    result_ids = np.argmax(probabilities, 1)\n",
    "    result = [rev_tag_dict[i] for i in result_ids]\n",
    "    return result"
   ]
  },
  {
   "cell_type": "code",
   "execution_count": 51,
   "metadata": {},
   "outputs": [
    {
     "data": {
      "text/plain": [
       "['PRON', 'VERB', 'DET', 'NOUN', 'NOUN', 'PUNCT']"
      ]
     },
     "execution_count": 51,
     "metadata": {},
     "output_type": "execute_result"
    }
   ],
   "source": [
    "predict(['this', 'is', 'a', 'test', 'sentence', '.'])"
   ]
  },
  {
   "cell_type": "code",
   "execution_count": 52,
   "metadata": {
    "scrolled": true
   },
   "outputs": [
    {
     "name": "stdout",
     "output_type": "stream",
     "text": [
      "sentence:\t or is triskaidekaphobia -- fear of the number 13 -- justified ?\n",
      "predict:\t CONJ VERB NOUN PUNCT NOUN ADP DET NOUN NUM PUNCT VERB PUNCT\n",
      "answer:\t CONJ VERB NOUN PUNCT NOUN ADP DET NOUN NUM PUNCT VERB PUNCT\n",
      "sentence:\t in addition , he said , some bigger institutional investors placed bids to buy some otc stocks whose prices were beaten down .\n",
      "predict:\t ADP NOUN PUNCT PRON VERB PUNCT DET ADJ ADJ NOUN VERB NOUN PART VERB DET PROPN NOUN AUX NOUN VERB VERB ADV PUNCT\n",
      "answer:\t ADP NOUN PUNCT PRON VERB PUNCT DET ADJ ADJ NOUN VERB NOUN PART VERB DET PROPN NOUN PRON NOUN AUX VERB ADP PUNCT\n",
      "sentence:\t most of those freed had spent at least 25 years in prison .\n",
      "predict:\t ADV ADP PRON VERB AUX VERB ADP ADJ NUM NOUN ADP NOUN PUNCT\n",
      "answer:\t ADJ ADP PRON VERB AUX VERB ADP ADJ NUM NOUN ADP NOUN PUNCT\n",
      "sentence:\t kenneth j. thygerson , who was named president of this thrift holding company in august , resigned , citing personal reasons .\n",
      "predict:\t PROPN PROPN PROPN PUNCT PRON AUX VERB NOUN ADP DET NOUN VERB NOUN ADP PROPN PUNCT VERB PUNCT VERB ADJ NOUN PUNCT\n",
      "answer:\t PROPN PROPN PROPN PUNCT PRON AUX VERB NOUN ADP DET NOUN NOUN NOUN ADP PROPN PUNCT VERB PUNCT VERB ADJ NOUN PUNCT\n",
      "sentence:\t meanwhile , supervisors and non-striking employees have been trying to finish some 40 aircraft -- mostly 747 and 767 jumbo jets at the company 's everett , wash. , plant -- that were all but completed before the walkout .\n",
      "predict:\t ADV PUNCT NOUN CONJ VERB NOUN AUX AUX VERB PART VERB DET PROPN NOUN PUNCT ADV NUM CONJ ADJ ADJ NOUN ADP DET NOUN PART PROPN PUNCT PROPN PUNCT NOUN PUNCT PRON VERB DET CONJ VERB ADP DET NOUN PUNCT\n",
      "answer:\t ADV PUNCT NOUN CONJ ADJ NOUN AUX AUX VERB PART VERB ADV NUM NOUN PUNCT ADV PROPN CONJ PROPN ADJ NOUN ADP DET NOUN PART PROPN PUNCT PROPN PUNCT NOUN PUNCT PRON AUX ADV ADV VERB ADP DET NOUN PUNCT\n"
     ]
    }
   ],
   "source": [
    "import random\n",
    "for _ in range(5):\n",
    "    i = random.randint(0, len(test_sents))\n",
    "    words, tags = test_sents[i]\n",
    "    words = words[3:-3]\n",
    "    print('sentence:\\t', ' '.join(words))\n",
    "    print('predict:\\t', ' '.join(predict(words)))\n",
    "    print('answer:\\t', ' '.join(tags))"
   ]
  },
  {
   "cell_type": "code",
   "execution_count": null,
   "metadata": {},
   "outputs": [],
   "source": [
    "model.save_weights('models/weights.h5')"
   ]
  }
 ],
 "metadata": {
  "kernelspec": {
   "display_name": "Python 3",
   "language": "python",
   "name": "python3"
  },
  "language_info": {
   "codemirror_mode": {
    "name": "ipython",
    "version": 3
   },
   "file_extension": ".py",
   "mimetype": "text/x-python",
   "name": "python",
   "nbconvert_exporter": "python",
   "pygments_lexer": "ipython3",
   "version": "3.6.5"
  }
 },
 "nbformat": 4,
 "nbformat_minor": 2
}
